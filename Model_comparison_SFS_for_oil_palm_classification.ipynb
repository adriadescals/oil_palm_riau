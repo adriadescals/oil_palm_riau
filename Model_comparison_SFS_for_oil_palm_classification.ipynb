{
  "nbformat": 4,
  "nbformat_minor": 0,
  "metadata": {
    "colab": {
      "name": "Model_comparison_SFS_for_oil_palm_classification.ipynb",
      "provenance": [],
      "collapsed_sections": []
    },
    "kernelspec": {
      "name": "python3",
      "display_name": "Python 3"
    }
  },
  "cells": [
    {
      "cell_type": "markdown",
      "metadata": {
        "id": "OLJEbDQTQR12",
        "colab_type": "text"
      },
      "source": [
        "**Comparison of the performance of Random Forest (RF), k-Nearest Neighbors (k-NN), Support Vector Machine (SVM), Classification And Regression Tree (CART), Naive Bayes (NB), and Minimum Distance (MD) for the detection of oil palm plantations. Each model is evaluated with a sequential feature selection.**\n",
        "\n",
        "Adrià Descals - a.descals@creaf.uab.cat /\n",
        "CREAF - Centre de Recerca Ecològica i Aplicacions Forestals\n"
      ]
    },
    {
      "cell_type": "code",
      "metadata": {
        "id": "zSZ0sxsqj96m",
        "colab_type": "code",
        "colab": {}
      },
      "source": [
        "# Initialize Google Earth Engine\n",
        "!pip install earthengine-api\n",
        "!earthengine authenticate\n",
        "\n",
        "import ee\n",
        "try:\n",
        "  ee.Initialize()\n",
        "  print('The Earth Engine package initialized successfully!')\n",
        "except ee.EEException as e:\n",
        "  print('The Earth Engine package failed to initialize!')\n",
        "except:\n",
        "    print(\"Unexpected error:\", sys.exc_info()[0])\n",
        "    raise"
      ],
      "execution_count": 0,
      "outputs": []
    },
    {
      "cell_type": "markdown",
      "metadata": {
        "id": "W5_joqbpvUDU",
        "colab_type": "text"
      },
      "source": [
        "# Import libraries and data"
      ]
    },
    {
      "cell_type": "code",
      "metadata": {
        "id": "MO01FnsBLR7j",
        "colab_type": "code",
        "colab": {}
      },
      "source": [
        "import numpy as np\n",
        "import time\n",
        "from sklearn.ensemble import RandomForestClassifier\n",
        "import pandas as pd\n",
        "from shapely.geometry import shape\n",
        "from sklearn.metrics import cohen_kappa_score\n",
        "from sklearn.metrics import r2_score\n",
        "from google.colab import files\n",
        "import matplotlib.pyplot as plt\n",
        "from sklearn.metrics import r2_score\n",
        "\n",
        "\n",
        "# Function to Convert Feature Classes to Pandas Dataframe\n",
        "def fc2df(fc):\n",
        "    features = fc.getInfo()['features']\n",
        "    dictarr = []\n",
        "    for f in features:\n",
        "        attr = f['properties']\n",
        "        dictarr.append(attr)\n",
        "\n",
        "    return pd.DataFrame(dictarr)\n"
      ],
      "execution_count": 0,
      "outputs": []
    },
    {
      "cell_type": "code",
      "metadata": {
        "id": "DXnDFqoHw6Dg",
        "colab_type": "code",
        "colab": {}
      },
      "source": [
        "# load training dataset\n",
        "assetID = 'users/adriadescals/shared/points_2019_05_27_1311X_Riau_paperPoints'\n",
        "tableGEE = ee.FeatureCollection(assetID);\n",
        "tableGEElist = tableGEE.toList(100000)\n",
        "\n",
        "tableGEE1 = ee.FeatureCollection(tableGEElist.slice(0, 4000))\n",
        "df =  fc2df(tableGEE1)"
      ],
      "execution_count": 0,
      "outputs": []
    },
    {
      "cell_type": "code",
      "metadata": {
        "id": "uUsDd8zd53Xo",
        "colab_type": "code",
        "colab": {}
      },
      "source": [
        "# change non-valid number to nan\n",
        "df = df.replace([-9], np.nan).dropna()"
      ],
      "execution_count": 0,
      "outputs": []
    },
    {
      "cell_type": "code",
      "metadata": {
        "id": "sTKhvHVdP8gf",
        "colab_type": "code",
        "colab": {}
      },
      "source": [
        "# Create variable with predictive data and display all feature names\n",
        "Xall = df.copy()\n",
        "Xall = Xall.drop(['mean','Class','Class2','Class3','Class4','Class5','folder','longitude','latitude','zone'],axis='columns')\n",
        "allBands = Xall.columns.tolist()\n",
        "\n",
        "folders = df.folder"
      ],
      "execution_count": 0,
      "outputs": []
    },
    {
      "cell_type": "markdown",
      "metadata": {
        "id": "GyMHLelVz0NO",
        "colab_type": "text"
      },
      "source": [
        "# Choose classification setup"
      ]
    },
    {
      "cell_type": "code",
      "metadata": {
        "id": "lQ6Wqjn7zzsq",
        "colab_type": "code",
        "colab": {}
      },
      "source": [
        "cc = 1\n",
        "\n",
        "if cc == 0: # classification setup I\n",
        "  y = df.Class5.copy()\n",
        "elif cc == 1: # classification setup Ii\n",
        "  y = df.Class5.copy()\n",
        "  y[y==2]=1\n",
        "  y[y==4]=3    \n",
        "elif cc == 2: # classification setup III\n",
        "  y = df.Class5.copy()\n",
        "  y[y==2]=5\n",
        "  y[y==4]=5\n",
        "  y[y==3]=1  \n",
        "  \n",
        "y2 = y.copy()"
      ],
      "execution_count": 0,
      "outputs": []
    },
    {
      "cell_type": "markdown",
      "metadata": {
        "colab_type": "text",
        "id": "ilzyY0Vf6Wg4"
      },
      "source": [
        "# Sequential Feature Selection RF"
      ]
    },
    {
      "cell_type": "code",
      "metadata": {
        "colab_type": "code",
        "id": "fqgkRa0p6Wg_",
        "colab": {}
      },
      "source": [
        "allBands = Xall.columns.tolist()\n",
        "# print(allBands)\n",
        "\n",
        "acc_all = np.empty((len(allBands),1,))\n",
        "acc_all[:] = np.nan\n",
        "\n",
        "\n",
        "for ff in range(0,len(allBands)):\n",
        "  \n",
        "    targetBand = allBands[ff]\n",
        "\n",
        "    X2 = Xall[targetBand].copy()\n",
        "    X2 = np.array([X2]).T       \n",
        "\n",
        "    acc = np.empty((10,1,))\n",
        "    acc[:] = np.nan\n",
        "\n",
        "    X_train = X2[folders<3.5]\n",
        "    y_train = y2[folders<3.5]\n",
        "    X_test = X2[folders>3.5]\n",
        "    y_test = y2[folders>3.5]\n",
        "    model = RandomForestClassifier(n_estimators=40, random_state=35,min_samples_split=2,min_samples_leaf=3,max_features='sqrt',oob_score=0)\n",
        "    model = model.fit(X_train, y_train)\n",
        "    acc_ii=kappa_ii = cohen_kappa_score(model.predict(X_test), y_test)\n",
        "    acc = acc_ii\n",
        "\n",
        "    acc_all[ff] = acc"
      ],
      "execution_count": 0,
      "outputs": []
    },
    {
      "cell_type": "code",
      "metadata": {
        "colab_type": "code",
        "outputId": "8393bd8d-8fb8-41ab-cc69-0b4e86ae33f7",
        "id": "oCQyinjB6WhC",
        "colab": {
          "base_uri": "https://localhost:8080/",
          "height": 68
        }
      },
      "source": [
        "features = Xall.columns.values\n",
        "print(np.max(acc_all))\n",
        "print(np.argmax(acc_all))\n",
        "print(allBands[np.argmax(acc_all)])\n",
        "\n",
        "firstBands = allBands[np.argmax(acc_all)]\n",
        "\n",
        "selectedKappa = np.empty((26,1,))\n",
        "selectedKappa[:] = np.nan\n",
        "selectedKappa[0] = np.max(acc_all)"
      ],
      "execution_count": 0,
      "outputs": [
        {
          "output_type": "stream",
          "text": [
            "0.6837863430330489\n",
            "20\n",
            "B12\n"
          ],
          "name": "stdout"
        }
      ]
    },
    {
      "cell_type": "code",
      "metadata": {
        "colab_type": "code",
        "id": "RJrpZuLS6WhF",
        "outputId": "400af383-057c-413a-9ce6-1d3fdfa26d99",
        "colab": {
          "base_uri": "https://localhost:8080/",
          "height": 972
        }
      },
      "source": [
        "\n",
        "selected_bands = [firstBands];\n",
        "bands2 = allBands.copy()\n",
        "bands2.remove(firstBands)\n",
        "\n",
        "for iter in range(0,25):\n",
        "\n",
        "  acc_all = np.empty((len(bands2),1,))\n",
        "  acc_all[:] = np.nan\n",
        "\n",
        "  #print(listTarget)\n",
        "\n",
        "  for ff in range(0,len(bands2)):\n",
        "      # split with folders\n",
        "      \n",
        "      \n",
        "      listTarget = [bands2[ff]]\n",
        "      listTarget.extend(selected_bands)\n",
        "#       print(listTarget)\n",
        "      \n",
        "      X2 = df[listTarget]\n",
        "      \n",
        "      #y2= (df['Class']<5)\n",
        "\n",
        "\n",
        "      acc = np.empty((10,1,))\n",
        "      acc[:] = np.nan\n",
        "      \n",
        "      X_train = X2[folders<3.5]\n",
        "      y_train = y2[folders<3.5]\n",
        "      X_test = X2[folders>3.5]\n",
        "      y_test = y2[folders>3.5]\n",
        "      model = RandomForestClassifier(n_estimators=40, random_state=35,min_samples_split=2,min_samples_leaf=3,max_features='sqrt',oob_score=0)\n",
        "      model = model.fit(X_train, y_train)\n",
        "      acc_ii=kappa_ii = cohen_kappa_score(model.predict(X_test), y_test)\n",
        "      acc = acc_ii\n",
        "\n",
        "      acc_all[ff] = acc\n",
        "\n",
        "\n",
        "  bandSelected = bands2[np.argmax(acc_all)]\n",
        "  bands2.remove(bandSelected)\n",
        "  selected_bands.append(bandSelected)\n",
        "  selectedKappa[1+iter] = max(acc_all)\n",
        "  print('iter'+str(iter))\n",
        "  print(selected_bands)\n",
        "print(selectedKappa[:,0])"
      ],
      "execution_count": 0,
      "outputs": [
        {
          "output_type": "stream",
          "text": [
            "iter0\n",
            "['B12', 't0_vh_hist_smoothed2']\n",
            "iter1\n",
            "['B12', 't0_vh_hist_smoothed2', 't0_vv_hist_smoothed2']\n",
            "iter2\n",
            "['B12', 't0_vh_hist_smoothed2', 't0_vv_hist_smoothed2', 'B11_1']\n",
            "iter3\n",
            "['B12', 't0_vh_hist_smoothed2', 't0_vv_hist_smoothed2', 'B11_1', 't0_vv_smoothed2']\n",
            "iter4\n",
            "['B12', 't0_vh_hist_smoothed2', 't0_vv_hist_smoothed2', 'B11_1', 't0_vv_smoothed2', 'B7_savg']\n",
            "iter5\n",
            "['B12', 't0_vh_hist_smoothed2', 't0_vv_hist_smoothed2', 'B11_1', 't0_vv_smoothed2', 'B7_savg', 'B4_savg_1']\n",
            "iter6\n",
            "['B12', 't0_vh_hist_smoothed2', 't0_vv_hist_smoothed2', 'B11_1', 't0_vv_smoothed2', 'B7_savg', 'B4_savg_1', 't0_vh_smoothed2']\n",
            "iter7\n",
            "['B12', 't0_vh_hist_smoothed2', 't0_vv_hist_smoothed2', 'B11_1', 't0_vv_smoothed2', 'B7_savg', 'B4_savg_1', 't0_vh_smoothed2', 'evi_contrast_1']\n",
            "iter8\n",
            "['B12', 't0_vh_hist_smoothed2', 't0_vv_hist_smoothed2', 'B11_1', 't0_vv_smoothed2', 'B7_savg', 'B4_savg_1', 't0_vh_smoothed2', 'evi_contrast_1', 'B4_svar_1']\n",
            "iter9\n",
            "['B12', 't0_vh_hist_smoothed2', 't0_vv_hist_smoothed2', 'B11_1', 't0_vv_smoothed2', 'B7_savg', 'B4_savg_1', 't0_vh_smoothed2', 'evi_contrast_1', 'B4_svar_1', 't0_vh_smoothed2_savg']\n",
            "iter10\n",
            "['B12', 't0_vh_hist_smoothed2', 't0_vv_hist_smoothed2', 'B11_1', 't0_vv_smoothed2', 'B7_savg', 'B4_savg_1', 't0_vh_smoothed2', 'evi_contrast_1', 'B4_svar_1', 't0_vh_smoothed2_savg', 't0_vv_hist_smoothed']\n",
            "iter11\n",
            "['B12', 't0_vh_hist_smoothed2', 't0_vv_hist_smoothed2', 'B11_1', 't0_vv_smoothed2', 'B7_savg', 'B4_savg_1', 't0_vh_smoothed2', 'evi_contrast_1', 'B4_svar_1', 't0_vh_smoothed2_savg', 't0_vv_hist_smoothed', 'B8_diss']\n",
            "iter12\n",
            "['B12', 't0_vh_hist_smoothed2', 't0_vv_hist_smoothed2', 'B11_1', 't0_vv_smoothed2', 'B7_savg', 'B4_savg_1', 't0_vh_smoothed2', 'evi_contrast_1', 'B4_svar_1', 't0_vh_smoothed2_savg', 't0_vv_hist_smoothed', 'B8_diss', 'B8A_1']\n",
            "iter13\n",
            "['B12', 't0_vh_hist_smoothed2', 't0_vv_hist_smoothed2', 'B11_1', 't0_vv_smoothed2', 'B7_savg', 'B4_savg_1', 't0_vh_smoothed2', 'evi_contrast_1', 'B4_svar_1', 't0_vh_smoothed2_savg', 't0_vv_hist_smoothed', 'B8_diss', 'B8A_1', 'B4_1']\n",
            "iter14\n",
            "['B12', 't0_vh_hist_smoothed2', 't0_vv_hist_smoothed2', 'B11_1', 't0_vv_smoothed2', 'B7_savg', 'B4_savg_1', 't0_vh_smoothed2', 'evi_contrast_1', 'B4_svar_1', 't0_vh_smoothed2_savg', 't0_vv_hist_smoothed', 'B8_diss', 'B8A_1', 'B4_1', 'evi_dent']\n",
            "iter15\n",
            "['B12', 't0_vh_hist_smoothed2', 't0_vv_hist_smoothed2', 'B11_1', 't0_vv_smoothed2', 'B7_savg', 'B4_savg_1', 't0_vh_smoothed2', 'evi_contrast_1', 'B4_svar_1', 't0_vh_smoothed2_savg', 't0_vv_hist_smoothed', 'B8_diss', 'B8A_1', 'B4_1', 'evi_dent', 'B8_1']\n",
            "iter16\n",
            "['B12', 't0_vh_hist_smoothed2', 't0_vv_hist_smoothed2', 'B11_1', 't0_vv_smoothed2', 'B7_savg', 'B4_savg_1', 't0_vh_smoothed2', 'evi_contrast_1', 'B4_svar_1', 't0_vh_smoothed2_savg', 't0_vv_hist_smoothed', 'B8_diss', 'B8A_1', 'B4_1', 'evi_dent', 'B8_1', 'evi_savg_1']\n",
            "iter17\n",
            "['B12', 't0_vh_hist_smoothed2', 't0_vv_hist_smoothed2', 'B11_1', 't0_vv_smoothed2', 'B7_savg', 'B4_savg_1', 't0_vh_smoothed2', 'evi_contrast_1', 'B4_svar_1', 't0_vh_smoothed2_savg', 't0_vv_hist_smoothed', 'B8_diss', 'B8A_1', 'B4_1', 'evi_dent', 'B8_1', 'evi_savg_1', 'B11_savg']\n",
            "iter18\n",
            "['B12', 't0_vh_hist_smoothed2', 't0_vv_hist_smoothed2', 'B11_1', 't0_vv_smoothed2', 'B7_savg', 'B4_savg_1', 't0_vh_smoothed2', 'evi_contrast_1', 'B4_svar_1', 't0_vh_smoothed2_savg', 't0_vv_hist_smoothed', 'B8_diss', 'B8A_1', 'B4_1', 'evi_dent', 'B8_1', 'evi_savg_1', 'B11_savg', 'B8_imcorr2']\n",
            "iter19\n",
            "['B12', 't0_vh_hist_smoothed2', 't0_vv_hist_smoothed2', 'B11_1', 't0_vv_smoothed2', 'B7_savg', 'B4_savg_1', 't0_vh_smoothed2', 'evi_contrast_1', 'B4_svar_1', 't0_vh_smoothed2_savg', 't0_vv_hist_smoothed', 'B8_diss', 'B8A_1', 'B4_1', 'evi_dent', 'B8_1', 'evi_savg_1', 'B11_savg', 'B8_imcorr2', 't0_vv_smoothed2_savg']\n",
            "iter20\n",
            "['B12', 't0_vh_hist_smoothed2', 't0_vv_hist_smoothed2', 'B11_1', 't0_vv_smoothed2', 'B7_savg', 'B4_savg_1', 't0_vh_smoothed2', 'evi_contrast_1', 'B4_svar_1', 't0_vh_smoothed2_savg', 't0_vv_hist_smoothed', 'B8_diss', 'B8A_1', 'B4_1', 'evi_dent', 'B8_1', 'evi_savg_1', 'B11_savg', 'B8_imcorr2', 't0_vv_smoothed2_savg', 'B8_var']\n",
            "iter21\n",
            "['B12', 't0_vh_hist_smoothed2', 't0_vv_hist_smoothed2', 'B11_1', 't0_vv_smoothed2', 'B7_savg', 'B4_savg_1', 't0_vh_smoothed2', 'evi_contrast_1', 'B4_svar_1', 't0_vh_smoothed2_savg', 't0_vv_hist_smoothed', 'B8_diss', 'B8A_1', 'B4_1', 'evi_dent', 'B8_1', 'evi_savg_1', 'B11_savg', 'B8_imcorr2', 't0_vv_smoothed2_savg', 'B8_var', 'B11_var']\n",
            "iter22\n",
            "['B12', 't0_vh_hist_smoothed2', 't0_vv_hist_smoothed2', 'B11_1', 't0_vv_smoothed2', 'B7_savg', 'B4_savg_1', 't0_vh_smoothed2', 'evi_contrast_1', 'B4_svar_1', 't0_vh_smoothed2_savg', 't0_vv_hist_smoothed', 'B8_diss', 'B8A_1', 'B4_1', 'evi_dent', 'B8_1', 'evi_savg_1', 'B11_savg', 'B8_imcorr2', 't0_vv_smoothed2_savg', 'B8_var', 'B11_var', 'evi_dent_1']\n",
            "iter23\n",
            "['B12', 't0_vh_hist_smoothed2', 't0_vv_hist_smoothed2', 'B11_1', 't0_vv_smoothed2', 'B7_savg', 'B4_savg_1', 't0_vh_smoothed2', 'evi_contrast_1', 'B4_svar_1', 't0_vh_smoothed2_savg', 't0_vv_hist_smoothed', 'B8_diss', 'B8A_1', 'B4_1', 'evi_dent', 'B8_1', 'evi_savg_1', 'B11_savg', 'B8_imcorr2', 't0_vv_smoothed2_savg', 'B8_var', 'B11_var', 'evi_dent_1', 'evi_diss']\n",
            "iter24\n",
            "['B12', 't0_vh_hist_smoothed2', 't0_vv_hist_smoothed2', 'B11_1', 't0_vv_smoothed2', 'B7_savg', 'B4_savg_1', 't0_vh_smoothed2', 'evi_contrast_1', 'B4_svar_1', 't0_vh_smoothed2_savg', 't0_vv_hist_smoothed', 'B8_diss', 'B8A_1', 'B4_1', 'evi_dent', 'B8_1', 'evi_savg_1', 'B11_savg', 'B8_imcorr2', 't0_vv_smoothed2_savg', 'B8_var', 'B11_var', 'evi_dent_1', 'evi_diss', 'evi_sent']\n",
            "[0.68378634 0.86028289 0.92504218 0.93341623 0.94171083 0.94253514\n",
            " 0.94669147 0.94839255 0.95420806 0.95421251 0.95253827 0.94587698\n",
            " 0.94920762 0.94587171 0.95087773 0.95587322 0.94753719 0.95336866\n",
            " 0.95087295 0.95753838 0.95672055 0.95338228 0.95420806 0.95670369\n",
            " 0.95337774 0.95087295]\n"
          ],
          "name": "stdout"
        }
      ]
    },
    {
      "cell_type": "markdown",
      "metadata": {
        "id": "8SUSjIK3zX7W",
        "colab_type": "text"
      },
      "source": [
        "# Sequential Feature Selection k-NN"
      ]
    },
    {
      "cell_type": "code",
      "metadata": {
        "id": "VNf30OOMSWEV",
        "colab_type": "code",
        "colab": {}
      },
      "source": [
        "from sklearn.neighbors import KNeighborsClassifier"
      ],
      "execution_count": 0,
      "outputs": []
    },
    {
      "cell_type": "code",
      "metadata": {
        "id": "usiAMVHE9-8-",
        "colab_type": "code",
        "outputId": "91dde012-f232-4faa-e051-120727e3fbe0",
        "colab": {
          "base_uri": "https://localhost:8080/",
          "height": 255
        }
      },
      "source": [
        "allBands = Xall.columns.tolist()\n",
        "\n",
        "acc_all = np.empty((len(allBands),1,))\n",
        "acc_all[:] = np.nan\n",
        "\n",
        "\n",
        "for ff in range(0,len(allBands)):\n",
        "\n",
        "    targetBand = allBands[ff]\n",
        "\n",
        "    X2 = Xall[targetBand].copy()\n",
        "    X2 = np.array([X2]).T       \n",
        "\n",
        "    acc = np.empty((10,1,))\n",
        "    acc[:] = np.nan\n",
        "\n",
        "    X_train = X2[folders<3.5]\n",
        "    y_train = y2[folders<3.5]\n",
        "    X_test = X2[folders>3.5]\n",
        "    y_test = y2[folders>3.5]\n",
        "      \n",
        "    X_train -= X_train.min()\n",
        "    X_train /= X_train.max() \n",
        "    X_test -= X_test.min()\n",
        "    X_test /= X_test.max() \n",
        "\n",
        "    if pd.Series(X_train[:,0]).isnull().values.any():\n",
        "      acc = 0\n",
        "    else:\n",
        "      model = KNeighborsClassifier(n_neighbors=3)\n",
        "      model.fit(X_train, y_train)\n",
        "      acc_ii=kappa_ii = cohen_kappa_score(model.predict(X_test), y_test)\n",
        "      acc = acc_ii\n",
        "\n",
        "    acc_all[ff] = acc\n",
        "    "
      ],
      "execution_count": 0,
      "outputs": [
        {
          "output_type": "stream",
          "text": [
            "/usr/local/lib/python3.6/dist-packages/ipykernel_launcher.py:23: RuntimeWarning: invalid value encountered in true_divide\n",
            "/usr/local/lib/python3.6/dist-packages/ipykernel_launcher.py:25: RuntimeWarning: invalid value encountered in true_divide\n",
            "/usr/local/lib/python3.6/dist-packages/ipykernel_launcher.py:23: RuntimeWarning: invalid value encountered in true_divide\n",
            "/usr/local/lib/python3.6/dist-packages/ipykernel_launcher.py:25: RuntimeWarning: invalid value encountered in true_divide\n",
            "/usr/local/lib/python3.6/dist-packages/ipykernel_launcher.py:23: RuntimeWarning: invalid value encountered in true_divide\n",
            "/usr/local/lib/python3.6/dist-packages/ipykernel_launcher.py:25: RuntimeWarning: invalid value encountered in true_divide\n",
            "/usr/local/lib/python3.6/dist-packages/ipykernel_launcher.py:23: RuntimeWarning: invalid value encountered in true_divide\n",
            "/usr/local/lib/python3.6/dist-packages/ipykernel_launcher.py:25: RuntimeWarning: invalid value encountered in true_divide\n",
            "/usr/local/lib/python3.6/dist-packages/ipykernel_launcher.py:23: RuntimeWarning: invalid value encountered in true_divide\n",
            "/usr/local/lib/python3.6/dist-packages/ipykernel_launcher.py:25: RuntimeWarning: invalid value encountered in true_divide\n",
            "/usr/local/lib/python3.6/dist-packages/ipykernel_launcher.py:23: RuntimeWarning: invalid value encountered in true_divide\n",
            "/usr/local/lib/python3.6/dist-packages/ipykernel_launcher.py:25: RuntimeWarning: invalid value encountered in true_divide\n",
            "/usr/local/lib/python3.6/dist-packages/ipykernel_launcher.py:23: RuntimeWarning: invalid value encountered in true_divide\n",
            "/usr/local/lib/python3.6/dist-packages/ipykernel_launcher.py:25: RuntimeWarning: invalid value encountered in true_divide\n"
          ],
          "name": "stderr"
        }
      ]
    },
    {
      "cell_type": "code",
      "metadata": {
        "id": "CWiEWO03ECTk",
        "colab_type": "code",
        "outputId": "6e6ad4ed-433b-4b00-941b-f133cd3fc2c6",
        "colab": {
          "base_uri": "https://localhost:8080/",
          "height": 68
        }
      },
      "source": [
        "features = Xall.columns.values\n",
        "print(np.max(acc_all))\n",
        "print(np.argmax(acc_all))\n",
        "print(allBands[np.argmax(acc_all)])\n",
        "\n",
        "firstBands = allBands[np.argmax(acc_all)]\n",
        "\n",
        "selectedKappa = np.empty((26,1,))\n",
        "selectedKappa[:] = np.nan\n",
        "selectedKappa[0] = np.max(acc_all)"
      ],
      "execution_count": 0,
      "outputs": [
        {
          "output_type": "stream",
          "text": [
            "0.6776322465805273\n",
            "1\n",
            "B11_1\n"
          ],
          "name": "stdout"
        }
      ]
    },
    {
      "cell_type": "code",
      "metadata": {
        "id": "wwoLeLVB4LHe",
        "colab_type": "code",
        "outputId": "346bebbb-0733-4662-b661-9f09a8492837",
        "colab": {
          "base_uri": "https://localhost:8080/",
          "height": 972
        }
      },
      "source": [
        "selected_bands = [firstBands];\n",
        "bands2 = allBands.copy()\n",
        "bands2.remove(firstBands)\n",
        "\n",
        "for iter in range(0,25):\n",
        "\n",
        "  acc_all = np.empty((len(bands2),1,))\n",
        "  acc_all[:] = np.nan\n",
        "\n",
        "\n",
        "  for ff in range(0,len(bands2)):\n",
        "      \n",
        "      listTarget = [bands2[ff]]\n",
        "      listTarget.extend(selected_bands)\n",
        "\n",
        "      X2 = df[listTarget]\n",
        " \n",
        "\n",
        "      acc = np.empty((10,1,))\n",
        "      acc[:] = np.nan\n",
        "      \n",
        "\n",
        "      X_train = X2[folders<3.5]\n",
        "      y_train = y2[folders<3.5]\n",
        "      X_test = X2[folders>3.5]\n",
        "      y_test = y2[folders>3.5]\n",
        "        \n",
        "      X_train -= X_train.min()\n",
        "      X_train /= X_train.max() \n",
        "      X_test -= X_test.min()\n",
        "      X_test /= X_test.max()    \n",
        "        \n",
        "\n",
        "      if pd.Series(X_train[bands2[ff]]).isnull().values.any():\n",
        "        acc = 0\n",
        "      else:\n",
        "        model = KNeighborsClassifier(n_neighbors=3)\n",
        "        model.fit(X_train, y_train)\n",
        "        acc_ii=kappa_ii = cohen_kappa_score(model.predict(X_test), y_test)\n",
        "        acc = acc_ii\n",
        "\n",
        "      acc_all[ff] = acc\n",
        "\n",
        "\n",
        "  bandSelected = bands2[np.argmax(acc_all)]\n",
        "  bands2.remove(bandSelected)\n",
        "  selected_bands.append(bandSelected)\n",
        "  selectedKappa[1+iter] = max(acc_all)\n",
        "  print('iter'+str(iter))\n",
        "  print(selected_bands)\n",
        "print(selectedKappa[:,0])"
      ],
      "execution_count": 0,
      "outputs": [
        {
          "output_type": "stream",
          "text": [
            "iter0\n",
            "['B11_1', 't0_vh_hist_smoothed']\n",
            "iter1\n",
            "['B11_1', 't0_vh_hist_smoothed', 't0_vv_hist_smoothed']\n",
            "iter2\n",
            "['B11_1', 't0_vh_hist_smoothed', 't0_vv_hist_smoothed', 't0_vv_smoothed2']\n",
            "iter3\n",
            "['B11_1', 't0_vh_hist_smoothed', 't0_vv_hist_smoothed', 't0_vv_smoothed2', 'B4_savg_1']\n",
            "iter4\n",
            "['B11_1', 't0_vh_hist_smoothed', 't0_vv_hist_smoothed', 't0_vv_smoothed2', 'B4_savg_1', 't0_vv_hist_smoothed2']\n",
            "iter5\n",
            "['B11_1', 't0_vh_hist_smoothed', 't0_vv_hist_smoothed', 't0_vv_smoothed2', 'B4_savg_1', 't0_vv_hist_smoothed2', 'evi_idm_1']\n",
            "iter6\n",
            "['B11_1', 't0_vh_hist_smoothed', 't0_vv_hist_smoothed', 't0_vv_smoothed2', 'B4_savg_1', 't0_vv_hist_smoothed2', 'evi_idm_1', 'B4_prom_1']\n",
            "iter7\n",
            "['B11_1', 't0_vh_hist_smoothed', 't0_vv_hist_smoothed', 't0_vv_smoothed2', 'B4_savg_1', 't0_vv_hist_smoothed2', 'evi_idm_1', 'B4_prom_1', 't0_vv_smoothed2_prom']\n",
            "iter8\n",
            "['B11_1', 't0_vh_hist_smoothed', 't0_vv_hist_smoothed', 't0_vv_smoothed2', 'B4_savg_1', 't0_vv_hist_smoothed2', 'evi_idm_1', 'B4_prom_1', 't0_vv_smoothed2_prom', 'B8_imcorr2']\n",
            "iter9\n",
            "['B11_1', 't0_vh_hist_smoothed', 't0_vv_hist_smoothed', 't0_vv_smoothed2', 'B4_savg_1', 't0_vv_hist_smoothed2', 'evi_idm_1', 'B4_prom_1', 't0_vv_smoothed2_prom', 'B8_imcorr2', 'evi_asm']\n",
            "iter10\n",
            "['B11_1', 't0_vh_hist_smoothed', 't0_vv_hist_smoothed', 't0_vv_smoothed2', 'B4_savg_1', 't0_vv_hist_smoothed2', 'evi_idm_1', 'B4_prom_1', 't0_vv_smoothed2_prom', 'B8_imcorr2', 'evi_asm', 'evi_asm_1']\n",
            "iter11\n",
            "['B11_1', 't0_vh_hist_smoothed', 't0_vv_hist_smoothed', 't0_vv_smoothed2', 'B4_savg_1', 't0_vv_hist_smoothed2', 'evi_idm_1', 'B4_prom_1', 't0_vv_smoothed2_prom', 'B8_imcorr2', 'evi_asm', 'evi_asm_1', 't0_vh_smoothed2_asm']\n",
            "iter12\n",
            "['B11_1', 't0_vh_hist_smoothed', 't0_vv_hist_smoothed', 't0_vv_smoothed2', 'B4_savg_1', 't0_vv_hist_smoothed2', 'evi_idm_1', 'B4_prom_1', 't0_vv_smoothed2_prom', 'B8_imcorr2', 'evi_asm', 'evi_asm_1', 't0_vh_smoothed2_asm', 't0_vh_smoothed2_ent']\n",
            "iter13\n",
            "['B11_1', 't0_vh_hist_smoothed', 't0_vv_hist_smoothed', 't0_vv_smoothed2', 'B4_savg_1', 't0_vv_hist_smoothed2', 'evi_idm_1', 'B4_prom_1', 't0_vv_smoothed2_prom', 'B8_imcorr2', 'evi_asm', 'evi_asm_1', 't0_vh_smoothed2_asm', 't0_vh_smoothed2_ent', 't0_vh_smoothed2_idm']\n",
            "iter14\n",
            "['B11_1', 't0_vh_hist_smoothed', 't0_vv_hist_smoothed', 't0_vv_smoothed2', 'B4_savg_1', 't0_vv_hist_smoothed2', 'evi_idm_1', 'B4_prom_1', 't0_vv_smoothed2_prom', 'B8_imcorr2', 'evi_asm', 'evi_asm_1', 't0_vh_smoothed2_asm', 't0_vh_smoothed2_ent', 't0_vh_smoothed2_idm', 't0_vh_smoothed2_imcorr2']\n",
            "iter15\n",
            "['B11_1', 't0_vh_hist_smoothed', 't0_vv_hist_smoothed', 't0_vv_smoothed2', 'B4_savg_1', 't0_vv_hist_smoothed2', 'evi_idm_1', 'B4_prom_1', 't0_vv_smoothed2_prom', 'B8_imcorr2', 'evi_asm', 'evi_asm_1', 't0_vh_smoothed2_asm', 't0_vh_smoothed2_ent', 't0_vh_smoothed2_idm', 't0_vh_smoothed2_imcorr2', 't0_vv_smoothed2_asm']\n",
            "iter16\n",
            "['B11_1', 't0_vh_hist_smoothed', 't0_vv_hist_smoothed', 't0_vv_smoothed2', 'B4_savg_1', 't0_vv_hist_smoothed2', 'evi_idm_1', 'B4_prom_1', 't0_vv_smoothed2_prom', 'B8_imcorr2', 'evi_asm', 'evi_asm_1', 't0_vh_smoothed2_asm', 't0_vh_smoothed2_ent', 't0_vh_smoothed2_idm', 't0_vh_smoothed2_imcorr2', 't0_vv_smoothed2_asm', 't0_vv_smoothed2_ent']\n",
            "iter17\n",
            "['B11_1', 't0_vh_hist_smoothed', 't0_vv_hist_smoothed', 't0_vv_smoothed2', 'B4_savg_1', 't0_vv_hist_smoothed2', 'evi_idm_1', 'B4_prom_1', 't0_vv_smoothed2_prom', 'B8_imcorr2', 'evi_asm', 'evi_asm_1', 't0_vh_smoothed2_asm', 't0_vh_smoothed2_ent', 't0_vh_smoothed2_idm', 't0_vh_smoothed2_imcorr2', 't0_vv_smoothed2_asm', 't0_vv_smoothed2_ent', 't0_vv_smoothed2_imcorr2']\n",
            "iter18\n",
            "['B11_1', 't0_vh_hist_smoothed', 't0_vv_hist_smoothed', 't0_vv_smoothed2', 'B4_savg_1', 't0_vv_hist_smoothed2', 'evi_idm_1', 'B4_prom_1', 't0_vv_smoothed2_prom', 'B8_imcorr2', 'evi_asm', 'evi_asm_1', 't0_vh_smoothed2_asm', 't0_vh_smoothed2_ent', 't0_vh_smoothed2_idm', 't0_vh_smoothed2_imcorr2', 't0_vv_smoothed2_asm', 't0_vv_smoothed2_ent', 't0_vv_smoothed2_imcorr2', 't0_vv_smoothed2_sent']\n",
            "iter19\n",
            "['B11_1', 't0_vh_hist_smoothed', 't0_vv_hist_smoothed', 't0_vv_smoothed2', 'B4_savg_1', 't0_vv_hist_smoothed2', 'evi_idm_1', 'B4_prom_1', 't0_vv_smoothed2_prom', 'B8_imcorr2', 'evi_asm', 'evi_asm_1', 't0_vh_smoothed2_asm', 't0_vh_smoothed2_ent', 't0_vh_smoothed2_idm', 't0_vh_smoothed2_imcorr2', 't0_vv_smoothed2_asm', 't0_vv_smoothed2_ent', 't0_vv_smoothed2_imcorr2', 't0_vv_smoothed2_sent', 'B8_prom']\n",
            "iter20\n",
            "['B11_1', 't0_vh_hist_smoothed', 't0_vv_hist_smoothed', 't0_vv_smoothed2', 'B4_savg_1', 't0_vv_hist_smoothed2', 'evi_idm_1', 'B4_prom_1', 't0_vv_smoothed2_prom', 'B8_imcorr2', 'evi_asm', 'evi_asm_1', 't0_vh_smoothed2_asm', 't0_vh_smoothed2_ent', 't0_vh_smoothed2_idm', 't0_vh_smoothed2_imcorr2', 't0_vv_smoothed2_asm', 't0_vv_smoothed2_ent', 't0_vv_smoothed2_imcorr2', 't0_vv_smoothed2_sent', 'B8_prom', 't0_vv_smoothed2_idm']\n",
            "iter21\n",
            "['B11_1', 't0_vh_hist_smoothed', 't0_vv_hist_smoothed', 't0_vv_smoothed2', 'B4_savg_1', 't0_vv_hist_smoothed2', 'evi_idm_1', 'B4_prom_1', 't0_vv_smoothed2_prom', 'B8_imcorr2', 'evi_asm', 'evi_asm_1', 't0_vh_smoothed2_asm', 't0_vh_smoothed2_ent', 't0_vh_smoothed2_idm', 't0_vh_smoothed2_imcorr2', 't0_vv_smoothed2_asm', 't0_vv_smoothed2_ent', 't0_vv_smoothed2_imcorr2', 't0_vv_smoothed2_sent', 'B8_prom', 't0_vv_smoothed2_idm', 'B7_asm']\n",
            "iter22\n",
            "['B11_1', 't0_vh_hist_smoothed', 't0_vv_hist_smoothed', 't0_vv_smoothed2', 'B4_savg_1', 't0_vv_hist_smoothed2', 'evi_idm_1', 'B4_prom_1', 't0_vv_smoothed2_prom', 'B8_imcorr2', 'evi_asm', 'evi_asm_1', 't0_vh_smoothed2_asm', 't0_vh_smoothed2_ent', 't0_vh_smoothed2_idm', 't0_vh_smoothed2_imcorr2', 't0_vv_smoothed2_asm', 't0_vv_smoothed2_ent', 't0_vv_smoothed2_imcorr2', 't0_vv_smoothed2_sent', 'B8_prom', 't0_vv_smoothed2_idm', 'B7_asm', 'B4_asm']\n",
            "iter23\n",
            "['B11_1', 't0_vh_hist_smoothed', 't0_vv_hist_smoothed', 't0_vv_smoothed2', 'B4_savg_1', 't0_vv_hist_smoothed2', 'evi_idm_1', 'B4_prom_1', 't0_vv_smoothed2_prom', 'B8_imcorr2', 'evi_asm', 'evi_asm_1', 't0_vh_smoothed2_asm', 't0_vh_smoothed2_ent', 't0_vh_smoothed2_idm', 't0_vh_smoothed2_imcorr2', 't0_vv_smoothed2_asm', 't0_vv_smoothed2_ent', 't0_vv_smoothed2_imcorr2', 't0_vv_smoothed2_sent', 'B8_prom', 't0_vv_smoothed2_idm', 'B7_asm', 'B4_asm', 't0_vh_smoothed2_imcorr1']\n",
            "iter24\n",
            "['B11_1', 't0_vh_hist_smoothed', 't0_vv_hist_smoothed', 't0_vv_smoothed2', 'B4_savg_1', 't0_vv_hist_smoothed2', 'evi_idm_1', 'B4_prom_1', 't0_vv_smoothed2_prom', 'B8_imcorr2', 'evi_asm', 'evi_asm_1', 't0_vh_smoothed2_asm', 't0_vh_smoothed2_ent', 't0_vh_smoothed2_idm', 't0_vh_smoothed2_imcorr2', 't0_vv_smoothed2_asm', 't0_vv_smoothed2_ent', 't0_vv_smoothed2_imcorr2', 't0_vv_smoothed2_sent', 'B8_prom', 't0_vv_smoothed2_idm', 'B7_asm', 'B4_asm', 't0_vh_smoothed2_imcorr1', 't0_vv_smoothed3']\n",
            "[0.67763225 0.84488141 0.90378137 0.92109692 0.93185115 0.94507908\n",
            " 0.95007675 0.95507345 0.95590757 0.95590757 0.95590757 0.95590757\n",
            " 0.95590757 0.95590757 0.95590757 0.95590757 0.95590757 0.95590757\n",
            " 0.95590757 0.95507782 0.95508219 0.95425261 0.95425261 0.95259829\n",
            " 0.9542615  0.95507345]\n"
          ],
          "name": "stdout"
        }
      ]
    },
    {
      "cell_type": "markdown",
      "metadata": {
        "id": "V6znE7CXubMY",
        "colab_type": "text"
      },
      "source": [
        "# Sequential Feature Selection SVM"
      ]
    },
    {
      "cell_type": "code",
      "metadata": {
        "id": "c5cNUFvwqByQ",
        "colab_type": "code",
        "colab": {}
      },
      "source": [
        "from sklearn.svm import SVC"
      ],
      "execution_count": 0,
      "outputs": []
    },
    {
      "cell_type": "code",
      "metadata": {
        "colab_type": "code",
        "outputId": "b8cc28bc-0c8a-47a7-9272-221dfe4c3aeb",
        "id": "1twLcwpjzUjq",
        "colab": {
          "base_uri": "https://localhost:8080/",
          "height": 255
        }
      },
      "source": [
        "# import warnings filter\n",
        "from warnings import simplefilter\n",
        "# ignore all future warnings\n",
        "simplefilter(action='ignore', category=FutureWarning)\n",
        "\n",
        "\n",
        "allBands = Xall.columns.tolist()\n",
        "\n",
        "\n",
        "acc_all = np.empty((len(allBands),1,))\n",
        "acc_all[:] = np.nan\n",
        "\n",
        "\n",
        "for ff in range(0,len(allBands)):\n",
        "    targetBand = allBands[ff]\n",
        "\n",
        "    X2 = Xall[targetBand].copy()\n",
        "    X2 = np.array([X2]).T       \n",
        "\n",
        "    acc = np.empty((10,1,))\n",
        "    acc[:] = np.nan\n",
        "\n",
        "    X_train = X2[folders<3.5]\n",
        "    y_train = y2[folders<3.5]\n",
        "    X_test = X2[folders>3.5]\n",
        "    y_test = y2[folders>3.5]\n",
        "      \n",
        "    X_train -= X_train.min()\n",
        "    X_train /= X_train.max() \n",
        "    X_test -= X_test.min()\n",
        "    X_test /= X_test.max() \n",
        "\n",
        "    if pd.Series(X_train[:,0]).isnull().values.any():\n",
        "      acc = 0\n",
        "    else:\n",
        "      model = SVC(kernel='rbf',C= 27, tol= 0.095)\n",
        "      model.fit(X_train, y_train)\n",
        "      acc_ii=kappa_ii = cohen_kappa_score(model.predict(X_test), y_test)\n",
        "      acc = acc_ii\n",
        "\n",
        "    acc_all[ff] = acc\n",
        "    "
      ],
      "execution_count": 0,
      "outputs": [
        {
          "output_type": "stream",
          "text": [
            "/usr/local/lib/python3.6/dist-packages/ipykernel_launcher.py:28: RuntimeWarning: invalid value encountered in true_divide\n",
            "/usr/local/lib/python3.6/dist-packages/ipykernel_launcher.py:30: RuntimeWarning: invalid value encountered in true_divide\n",
            "/usr/local/lib/python3.6/dist-packages/ipykernel_launcher.py:28: RuntimeWarning: invalid value encountered in true_divide\n",
            "/usr/local/lib/python3.6/dist-packages/ipykernel_launcher.py:30: RuntimeWarning: invalid value encountered in true_divide\n",
            "/usr/local/lib/python3.6/dist-packages/ipykernel_launcher.py:28: RuntimeWarning: invalid value encountered in true_divide\n",
            "/usr/local/lib/python3.6/dist-packages/ipykernel_launcher.py:30: RuntimeWarning: invalid value encountered in true_divide\n",
            "/usr/local/lib/python3.6/dist-packages/ipykernel_launcher.py:28: RuntimeWarning: invalid value encountered in true_divide\n",
            "/usr/local/lib/python3.6/dist-packages/ipykernel_launcher.py:30: RuntimeWarning: invalid value encountered in true_divide\n",
            "/usr/local/lib/python3.6/dist-packages/ipykernel_launcher.py:28: RuntimeWarning: invalid value encountered in true_divide\n",
            "/usr/local/lib/python3.6/dist-packages/ipykernel_launcher.py:30: RuntimeWarning: invalid value encountered in true_divide\n",
            "/usr/local/lib/python3.6/dist-packages/ipykernel_launcher.py:28: RuntimeWarning: invalid value encountered in true_divide\n",
            "/usr/local/lib/python3.6/dist-packages/ipykernel_launcher.py:30: RuntimeWarning: invalid value encountered in true_divide\n",
            "/usr/local/lib/python3.6/dist-packages/ipykernel_launcher.py:28: RuntimeWarning: invalid value encountered in true_divide\n",
            "/usr/local/lib/python3.6/dist-packages/ipykernel_launcher.py:30: RuntimeWarning: invalid value encountered in true_divide\n"
          ],
          "name": "stderr"
        }
      ]
    },
    {
      "cell_type": "code",
      "metadata": {
        "colab_type": "code",
        "outputId": "0b26b656-b5bf-4542-c672-6d64cb17b8ae",
        "id": "sRPFjCMdzUjt",
        "colab": {
          "base_uri": "https://localhost:8080/",
          "height": 68
        }
      },
      "source": [
        "features = Xall.columns.values\n",
        "print(np.max(acc_all))\n",
        "print(np.argmax(acc_all))\n",
        "print(allBands[np.argmax(acc_all)])\n",
        "\n",
        "firstBands = allBands[np.argmax(acc_all)]\n",
        "\n",
        "selectedKappa = np.empty((26,1,))\n",
        "selectedKappa[:] = np.nan\n",
        "selectedKappa[0] = np.max(acc_all)"
      ],
      "execution_count": 0,
      "outputs": [
        {
          "output_type": "stream",
          "text": [
            "0.6783092685083113\n",
            "1\n",
            "B11_1\n"
          ],
          "name": "stdout"
        }
      ]
    },
    {
      "cell_type": "code",
      "metadata": {
        "colab_type": "code",
        "outputId": "b2b78e92-83de-4f93-8779-18b177924dc4",
        "id": "9Yo9avw8zUjy",
        "colab": {
          "base_uri": "https://localhost:8080/",
          "height": 972
        }
      },
      "source": [
        "# import warnings filter\n",
        "from warnings import simplefilter\n",
        "# ignore all future warnings\n",
        "simplefilter(action='ignore', category=FutureWarning)\n",
        "\n",
        "selected_bands = [firstBands];\n",
        "bands2 = allBands.copy()\n",
        "bands2.remove(firstBands)\n",
        "\n",
        "for iter in range(0,25):\n",
        "\n",
        "  acc_all = np.empty((len(bands2),1,))\n",
        "  acc_all[:] = np.nan\n",
        "\n",
        "\n",
        "  for ff in range(0,len(bands2)):\n",
        "\n",
        "      \n",
        "      listTarget = [bands2[ff]]\n",
        "      listTarget.extend(selected_bands)\n",
        "\n",
        "      X2 = df[listTarget]\n",
        "\n",
        "      acc = np.empty((10,1,))\n",
        "      acc[:] = np.nan\n",
        "      \n",
        "\n",
        "      X_train = X2[folders<3.5]\n",
        "      y_train = y2[folders<3.5]\n",
        "      X_test = X2[folders>3.5]\n",
        "      y_test = y2[folders>3.5]\n",
        "        \n",
        "      X_train -= X_train.min()\n",
        "      X_train /= X_train.max() \n",
        "      X_test -= X_test.min()\n",
        "      X_test /= X_test.max()    \n",
        "        \n",
        "\n",
        "      if pd.Series(X_train[bands2[ff]]).isnull().values.any():\n",
        "        acc = 0\n",
        "      else:\n",
        "        model = SVC(kernel='rbf',C= 27, tol= 0.095)\n",
        "        model.fit(X_train, y_train)\n",
        "        acc_ii=kappa_ii = cohen_kappa_score(model.predict(X_test), y_test)\n",
        "        acc = acc_ii\n",
        "\n",
        "      acc_all[ff] = acc\n",
        "\n",
        "\n",
        "  bandSelected = bands2[np.argmax(acc_all)]\n",
        "  bands2.remove(bandSelected)\n",
        "  selected_bands.append(bandSelected)\n",
        "  selectedKappa[1+iter] = max(acc_all)\n",
        "  print('iter'+str(iter)+'  OA: '+str(acc))\n",
        "  print(selected_bands)\n",
        "print(selectedKappa[:,0])"
      ],
      "execution_count": 0,
      "outputs": [
        {
          "output_type": "stream",
          "text": [
            "iter0  OA: 0.7168703078516312\n",
            "['B11_1', 't0_vh_hist_smoothed']\n",
            "iter1  OA: 0.8341387479504534\n",
            "['B11_1', 't0_vh_hist_smoothed', 't0_vv_hist_smoothed']\n",
            "iter2  OA: 0.8837725807417978\n",
            "['B11_1', 't0_vh_hist_smoothed', 't0_vv_hist_smoothed', 'B7_1']\n",
            "iter3  OA: 0.9035849349306214\n",
            "['B11_1', 't0_vh_hist_smoothed', 't0_vv_hist_smoothed', 'B7_1', 'B11']\n",
            "iter4  OA: 0.90275849730307\n",
            "['B11_1', 't0_vh_hist_smoothed', 't0_vv_hist_smoothed', 'B7_1', 'B11', 'B7']\n",
            "iter5  OA: 0.9060921220485645\n",
            "['B11_1', 't0_vh_hist_smoothed', 't0_vv_hist_smoothed', 'B7_1', 'B11', 'B7', 'B7_imcorr1']\n",
            "iter6  OA: 0.9050534263175567\n",
            "['B11_1', 't0_vh_hist_smoothed', 't0_vv_hist_smoothed', 'B7_1', 'B11', 'B7', 'B7_imcorr1', 'B8_ent']\n",
            "iter7  OA: 0.8966845215468086\n",
            "['B11_1', 't0_vh_hist_smoothed', 't0_vv_hist_smoothed', 'B7_1', 'B11', 'B7', 'B7_imcorr1', 'B8_ent', 'B11_idm']\n",
            "iter8  OA: 0.9025500857260215\n",
            "['B11_1', 't0_vh_hist_smoothed', 't0_vv_hist_smoothed', 'B7_1', 'B11', 'B7', 'B7_imcorr1', 'B8_ent', 'B11_idm', 'B11_savg']\n",
            "iter9  OA: 0.9076374966479805\n",
            "['B11_1', 't0_vh_hist_smoothed', 't0_vv_hist_smoothed', 'B7_1', 'B11', 'B7', 'B7_imcorr1', 'B8_ent', 'B11_idm', 'B11_savg', 'B4_diss_1']\n",
            "iter10  OA: 0.9133736344145161\n",
            "['B11_1', 't0_vh_hist_smoothed', 't0_vv_hist_smoothed', 'B7_1', 'B11', 'B7', 'B7_imcorr1', 'B8_ent', 'B11_idm', 'B11_savg', 'B4_diss_1', 't0_vh_smoothed2_corr']\n",
            "iter11  OA: 0.9075114763514412\n",
            "['B11_1', 't0_vh_hist_smoothed', 't0_vv_hist_smoothed', 'B7_1', 'B11', 'B7', 'B7_imcorr1', 'B8_ent', 'B11_idm', 'B11_savg', 'B4_diss_1', 't0_vh_smoothed2_corr', 'B8A_1']\n",
            "iter12  OA: 0.9083759594768921\n",
            "['B11_1', 't0_vh_hist_smoothed', 't0_vv_hist_smoothed', 'B7_1', 'B11', 'B7', 'B7_imcorr1', 'B8_ent', 'B11_idm', 'B11_savg', 'B4_diss_1', 't0_vh_smoothed2_corr', 'B8A_1', 'B4_contrast']\n",
            "iter13  OA: 0.9091602301421191\n",
            "['B11_1', 't0_vh_hist_smoothed', 't0_vv_hist_smoothed', 'B7_1', 'B11', 'B7', 'B7_imcorr1', 'B8_ent', 'B11_idm', 'B11_savg', 'B4_diss_1', 't0_vh_smoothed2_corr', 'B8A_1', 'B4_contrast', 'B8_savg']\n",
            "iter14  OA: 0.9125364280396143\n",
            "['B11_1', 't0_vh_hist_smoothed', 't0_vv_hist_smoothed', 'B7_1', 'B11', 'B7', 'B7_imcorr1', 'B8_ent', 'B11_idm', 'B11_savg', 'B4_diss_1', 't0_vh_smoothed2_corr', 'B8A_1', 'B4_contrast', 'B8_savg', 'B11_diss']\n",
            "iter15  OA: 0.9125279056902558\n",
            "['B11_1', 't0_vh_hist_smoothed', 't0_vv_hist_smoothed', 'B7_1', 'B11', 'B7', 'B7_imcorr1', 'B8_ent', 'B11_idm', 'B11_savg', 'B4_diss_1', 't0_vh_smoothed2_corr', 'B8A_1', 'B4_contrast', 'B8_savg', 'B11_diss', 'B4_imcorr1_1']\n",
            "iter16  OA: 0.9150891604902636\n",
            "['B11_1', 't0_vh_hist_smoothed', 't0_vv_hist_smoothed', 'B7_1', 'B11', 'B7', 'B7_imcorr1', 'B8_ent', 'B11_idm', 'B11_savg', 'B4_diss_1', 't0_vh_smoothed2_corr', 'B8A_1', 'B4_contrast', 'B8_savg', 'B11_diss', 'B4_imcorr1_1', 't0_vv_smoothed2_idm']\n",
            "iter17  OA: 0.9125705008369789\n",
            "['B11_1', 't0_vh_hist_smoothed', 't0_vv_hist_smoothed', 'B7_1', 'B11', 'B7', 'B7_imcorr1', 'B8_ent', 'B11_idm', 'B11_savg', 'B4_diss_1', 't0_vh_smoothed2_corr', 'B8A_1', 'B4_contrast', 'B8_savg', 'B11_diss', 'B4_imcorr1_1', 't0_vv_smoothed2_idm', 'B4_savg_1']\n",
            "iter18  OA: 0.9208971198048856\n",
            "['B11_1', 't0_vh_hist_smoothed', 't0_vv_hist_smoothed', 'B7_1', 'B11', 'B7', 'B7_imcorr1', 'B8_ent', 'B11_idm', 'B11_savg', 'B4_diss_1', 't0_vh_smoothed2_corr', 'B8A_1', 'B4_contrast', 'B8_savg', 'B11_diss', 'B4_imcorr1_1', 't0_vv_smoothed2_idm', 'B4_savg_1', 'evi_idm_1']\n",
            "iter19  OA: 0.9133905102051391\n",
            "['B11_1', 't0_vh_hist_smoothed', 't0_vv_hist_smoothed', 'B7_1', 'B11', 'B7', 'B7_imcorr1', 'B8_ent', 'B11_idm', 'B11_savg', 'B4_diss_1', 't0_vh_smoothed2_corr', 'B8A_1', 'B4_contrast', 'B8_savg', 'B11_diss', 'B4_imcorr1_1', 't0_vv_smoothed2_idm', 'B4_savg_1', 'evi_idm_1', 'B11_corr']\n",
            "iter20  OA: 0.9158847642237274\n",
            "['B11_1', 't0_vh_hist_smoothed', 't0_vv_hist_smoothed', 'B7_1', 'B11', 'B7', 'B7_imcorr1', 'B8_ent', 'B11_idm', 'B11_savg', 'B4_diss_1', 't0_vh_smoothed2_corr', 'B8A_1', 'B4_contrast', 'B8_savg', 'B11_diss', 'B4_imcorr1_1', 't0_vv_smoothed2_idm', 'B4_savg_1', 'evi_idm_1', 'B11_corr', 't0_vv_smoothed2_imcorr1']\n",
            "iter21  OA: 0.9142107592288907\n",
            "['B11_1', 't0_vh_hist_smoothed', 't0_vv_hist_smoothed', 'B7_1', 'B11', 'B7', 'B7_imcorr1', 'B8_ent', 'B11_idm', 'B11_savg', 'B4_diss_1', 't0_vh_smoothed2_corr', 'B8A_1', 'B4_contrast', 'B8_savg', 'B11_diss', 'B4_imcorr1_1', 't0_vv_smoothed2_idm', 'B4_savg_1', 'evi_idm_1', 'B11_corr', 't0_vv_smoothed2_imcorr1', 'B6_1']\n",
            "iter22  OA: 0.9142024008388598\n",
            "['B11_1', 't0_vh_hist_smoothed', 't0_vv_hist_smoothed', 'B7_1', 'B11', 'B7', 'B7_imcorr1', 'B8_ent', 'B11_idm', 'B11_savg', 'B4_diss_1', 't0_vh_smoothed2_corr', 'B8A_1', 'B4_contrast', 'B8_savg', 'B11_diss', 'B4_imcorr1_1', 't0_vv_smoothed2_idm', 'B4_savg_1', 'evi_idm_1', 'B11_corr', 't0_vv_smoothed2_imcorr1', 'B6_1', 'evi_dent_1']\n",
            "iter23  OA: 0.9083670321712187\n",
            "['B11_1', 't0_vh_hist_smoothed', 't0_vv_hist_smoothed', 'B7_1', 'B11', 'B7', 'B7_imcorr1', 'B8_ent', 'B11_idm', 'B11_savg', 'B4_diss_1', 't0_vh_smoothed2_corr', 'B8A_1', 'B4_contrast', 'B8_savg', 'B11_diss', 'B4_imcorr1_1', 't0_vv_smoothed2_idm', 'B4_savg_1', 'evi_idm_1', 'B11_corr', 't0_vv_smoothed2_imcorr1', 'B6_1', 'evi_dent_1', 'B4_diss']\n",
            "iter24  OA: 0.910879138228071\n",
            "['B11_1', 't0_vh_hist_smoothed', 't0_vv_hist_smoothed', 'B7_1', 'B11', 'B7', 'B7_imcorr1', 'B8_ent', 'B11_idm', 'B11_savg', 'B4_diss_1', 't0_vh_smoothed2_corr', 'B8A_1', 'B4_contrast', 'B8_savg', 'B11_diss', 'B4_imcorr1_1', 't0_vv_smoothed2_idm', 'B4_savg_1', 'evi_idm_1', 'B11_corr', 't0_vv_smoothed2_imcorr1', 'B6_1', 'evi_dent_1', 'B4_diss', 'B11_contrast']\n",
            "[0.67830927 0.75741249 0.87903807 0.90285294 0.90699097 0.90948668\n",
            " 0.91175073 0.91509743 0.91678649 0.91763065 0.91845076 0.92006057\n",
            " 0.92092022 0.92174121 0.92007613 0.92009948 0.92177168 0.92178691\n",
            " 0.92095101 0.9226152  0.92179452 0.92097408 0.92007613 0.92013835\n",
            " 0.91927897 0.91927897]\n"
          ],
          "name": "stdout"
        }
      ]
    },
    {
      "cell_type": "markdown",
      "metadata": {
        "colab_type": "text",
        "id": "2SQlmjKllGRC"
      },
      "source": [
        "# Sequential Feature Selection NaiveBayes"
      ]
    },
    {
      "cell_type": "code",
      "metadata": {
        "colab_type": "code",
        "id": "toCSTynLlGRJ",
        "colab": {}
      },
      "source": [
        "from sklearn.naive_bayes import GaussianNB"
      ],
      "execution_count": 0,
      "outputs": []
    },
    {
      "cell_type": "code",
      "metadata": {
        "colab_type": "code",
        "outputId": "b91f2c70-6d41-467f-9b72-7f249a2790d7",
        "id": "GhTsMP8dlGRS",
        "colab": {
          "base_uri": "https://localhost:8080/",
          "height": 255
        }
      },
      "source": [
        "allBands = Xall.columns.tolist()\n",
        "\n",
        "acc_all = np.empty((len(allBands),1,))\n",
        "acc_all[:] = np.nan\n",
        "\n",
        "\n",
        "for ff in range(0,len(allBands)):\n",
        "\n",
        "    targetBand = allBands[ff]\n",
        "\n",
        "    X2 = Xall[targetBand].copy()\n",
        "    X2 = np.array([X2]).T       \n",
        "\n",
        "    acc = np.empty((10,1,))\n",
        "    acc[:] = np.nan\n",
        "\n",
        "    X_train = X2[folders<3.5]\n",
        "    y_train = y2[folders<3.5]\n",
        "    X_test = X2[folders>3.5]\n",
        "    y_test = y2[folders>3.5]\n",
        "      \n",
        "    X_train -= X_train.min()\n",
        "    X_train /= X_train.max() \n",
        "    X_test -= X_test.min()\n",
        "    X_test /= X_test.max() \n",
        "\n",
        "    if pd.Series(X_train[:,0]).isnull().values.any():\n",
        "      acc = 0\n",
        "    else:\n",
        "      model = GaussianNB(var_smoothing=1e-09)\n",
        "      model = model.fit(X_train,y_train)\n",
        "      acc_ii=kappa_ii = cohen_kappa_score(model.predict(X_test), y_test)\n",
        "      acc = acc_ii\n",
        "\n",
        "    acc_all[ff] = acc\n",
        "    "
      ],
      "execution_count": 0,
      "outputs": [
        {
          "output_type": "stream",
          "text": [
            "/usr/local/lib/python3.6/dist-packages/ipykernel_launcher.py:23: RuntimeWarning: invalid value encountered in true_divide\n",
            "/usr/local/lib/python3.6/dist-packages/ipykernel_launcher.py:25: RuntimeWarning: invalid value encountered in true_divide\n",
            "/usr/local/lib/python3.6/dist-packages/ipykernel_launcher.py:23: RuntimeWarning: invalid value encountered in true_divide\n",
            "/usr/local/lib/python3.6/dist-packages/ipykernel_launcher.py:25: RuntimeWarning: invalid value encountered in true_divide\n",
            "/usr/local/lib/python3.6/dist-packages/ipykernel_launcher.py:23: RuntimeWarning: invalid value encountered in true_divide\n",
            "/usr/local/lib/python3.6/dist-packages/ipykernel_launcher.py:25: RuntimeWarning: invalid value encountered in true_divide\n",
            "/usr/local/lib/python3.6/dist-packages/ipykernel_launcher.py:23: RuntimeWarning: invalid value encountered in true_divide\n",
            "/usr/local/lib/python3.6/dist-packages/ipykernel_launcher.py:25: RuntimeWarning: invalid value encountered in true_divide\n",
            "/usr/local/lib/python3.6/dist-packages/ipykernel_launcher.py:23: RuntimeWarning: invalid value encountered in true_divide\n",
            "/usr/local/lib/python3.6/dist-packages/ipykernel_launcher.py:25: RuntimeWarning: invalid value encountered in true_divide\n",
            "/usr/local/lib/python3.6/dist-packages/ipykernel_launcher.py:23: RuntimeWarning: invalid value encountered in true_divide\n",
            "/usr/local/lib/python3.6/dist-packages/ipykernel_launcher.py:25: RuntimeWarning: invalid value encountered in true_divide\n",
            "/usr/local/lib/python3.6/dist-packages/ipykernel_launcher.py:23: RuntimeWarning: invalid value encountered in true_divide\n",
            "/usr/local/lib/python3.6/dist-packages/ipykernel_launcher.py:25: RuntimeWarning: invalid value encountered in true_divide\n"
          ],
          "name": "stderr"
        }
      ]
    },
    {
      "cell_type": "code",
      "metadata": {
        "colab_type": "code",
        "outputId": "01f93473-e76b-4515-828b-9cd38dceccce",
        "id": "M5pW9BftlGRX",
        "colab": {
          "base_uri": "https://localhost:8080/",
          "height": 68
        }
      },
      "source": [
        "features = Xall.columns.values\n",
        "print(np.max(acc_all))\n",
        "print(np.argmax(acc_all))\n",
        "print(allBands[np.argmax(acc_all)])\n",
        "\n",
        "firstBands = allBands[np.argmax(acc_all)]\n",
        "\n",
        "selectedKappa = np.empty((26,1,))\n",
        "selectedKappa[:] = np.nan\n",
        "selectedKappa[0] = np.max(acc_all)"
      ],
      "execution_count": 0,
      "outputs": [
        {
          "output_type": "stream",
          "text": [
            "0.3292409892108802\n",
            "15\n",
            "B11_savg\n"
          ],
          "name": "stdout"
        }
      ]
    },
    {
      "cell_type": "code",
      "metadata": {
        "colab_type": "code",
        "outputId": "c25a87ac-6497-4a35-92f1-c11694da8719",
        "id": "q8xb3YgClGRZ",
        "colab": {
          "base_uri": "https://localhost:8080/",
          "height": 972
        }
      },
      "source": [
        "selected_bands = [firstBands];\n",
        "bands2 = allBands.copy()\n",
        "bands2.remove(firstBands)\n",
        "\n",
        "for iter in range(0,25):\n",
        "\n",
        "  acc_all = np.empty((len(bands2),1,))\n",
        "  acc_all[:] = np.nan\n",
        "\n",
        "\n",
        "  for ff in range(0,len(bands2)):\n",
        "      \n",
        "      listTarget = [bands2[ff]]\n",
        "      listTarget.extend(selected_bands)\n",
        "\n",
        "      X2 = df[listTarget]\n",
        "\n",
        "      acc = np.empty((10,1,))\n",
        "      acc[:] = np.nan\n",
        "      \n",
        "\n",
        "      X_train = X2[folders<3.5]\n",
        "      y_train = y2[folders<3.5]\n",
        "      X_test = X2[folders>3.5]\n",
        "      y_test = y2[folders>3.5]\n",
        "        \n",
        "      X_train -= X_train.min()\n",
        "      X_train /= X_train.max() \n",
        "      X_test -= X_test.min()\n",
        "      X_test /= X_test.max()    \n",
        "        \n",
        "\n",
        "      if pd.Series(X_train[bands2[ff]]).isnull().values.any():\n",
        "        acc = 0\n",
        "      else:\n",
        "        model = GaussianNB(var_smoothing=1e-09)\n",
        "        model = model.fit(X_train,y_train)\n",
        "        acc_ii=kappa_ii = cohen_kappa_score(model.predict(X_test), y_test)\n",
        "        acc = acc_ii\n",
        "\n",
        "      acc_all[ff] = acc\n",
        "\n",
        "\n",
        "  bandSelected = bands2[np.argmax(acc_all)]\n",
        "  bands2.remove(bandSelected)\n",
        "  selected_bands.append(bandSelected)\n",
        "  selectedKappa[1+iter] = max(acc_all)\n",
        "  print('iter'+str(iter))\n",
        "  print(selected_bands)\n",
        "print(selectedKappa[:,0])"
      ],
      "execution_count": 0,
      "outputs": [
        {
          "output_type": "stream",
          "text": [
            "iter0\n",
            "['B11_savg', 'B4_corr_1']\n",
            "iter1\n",
            "['B11_savg', 'B4_corr_1', 't0_vh']\n",
            "iter2\n",
            "['B11_savg', 'B4_corr_1', 't0_vh', 'evi_corr_1']\n",
            "iter3\n",
            "['B11_savg', 'B4_corr_1', 't0_vh', 'evi_corr_1', 'B7_imcorr1']\n",
            "iter4\n",
            "['B11_savg', 'B4_corr_1', 't0_vh', 'evi_corr_1', 'B7_imcorr1', 'B8_corr']\n",
            "iter5\n",
            "['B11_savg', 'B4_corr_1', 't0_vh', 'evi_corr_1', 'B7_imcorr1', 'B8_corr', 'B4_ent_1']\n",
            "iter6\n",
            "['B11_savg', 'B4_corr_1', 't0_vh', 'evi_corr_1', 'B7_imcorr1', 'B8_corr', 'B4_ent_1', 'random']\n",
            "iter7\n",
            "['B11_savg', 'B4_corr_1', 't0_vh', 'evi_corr_1', 'B7_imcorr1', 'B8_corr', 'B4_ent_1', 'random', 't0_vh_hist_smoothed']\n",
            "iter8\n",
            "['B11_savg', 'B4_corr_1', 't0_vh', 'evi_corr_1', 'B7_imcorr1', 'B8_corr', 'B4_ent_1', 'random', 't0_vh_hist_smoothed', 'B4_corr']\n",
            "iter9\n",
            "['B11_savg', 'B4_corr_1', 't0_vh', 'evi_corr_1', 'B7_imcorr1', 'B8_corr', 'B4_ent_1', 'random', 't0_vh_hist_smoothed', 'B4_corr', 'B4_dent_1']\n",
            "iter10\n",
            "['B11_savg', 'B4_corr_1', 't0_vh', 'evi_corr_1', 'B7_imcorr1', 'B8_corr', 'B4_ent_1', 'random', 't0_vh_hist_smoothed', 'B4_corr', 'B4_dent_1', 'evi_imcorr2_1']\n",
            "iter11\n",
            "['B11_savg', 'B4_corr_1', 't0_vh', 'evi_corr_1', 'B7_imcorr1', 'B8_corr', 'B4_ent_1', 'random', 't0_vh_hist_smoothed', 'B4_corr', 'B4_dent_1', 'evi_imcorr2_1', 'evi_shade_1']\n",
            "iter12\n",
            "['B11_savg', 'B4_corr_1', 't0_vh', 'evi_corr_1', 'B7_imcorr1', 'B8_corr', 'B4_ent_1', 'random', 't0_vh_hist_smoothed', 'B4_corr', 'B4_dent_1', 'evi_imcorr2_1', 'evi_shade_1', 'B4_svar_1']\n",
            "iter13\n",
            "['B11_savg', 'B4_corr_1', 't0_vh', 'evi_corr_1', 'B7_imcorr1', 'B8_corr', 'B4_ent_1', 'random', 't0_vh_hist_smoothed', 'B4_corr', 'B4_dent_1', 'evi_imcorr2_1', 'evi_shade_1', 'B4_svar_1', 'B7_idm']\n",
            "iter14\n",
            "['B11_savg', 'B4_corr_1', 't0_vh', 'evi_corr_1', 'B7_imcorr1', 'B8_corr', 'B4_ent_1', 'random', 't0_vh_hist_smoothed', 'B4_corr', 'B4_dent_1', 'evi_imcorr2_1', 'evi_shade_1', 'B4_svar_1', 'B7_idm', 't0_vh_smoothed2_savg']\n",
            "iter15\n",
            "['B11_savg', 'B4_corr_1', 't0_vh', 'evi_corr_1', 'B7_imcorr1', 'B8_corr', 'B4_ent_1', 'random', 't0_vh_hist_smoothed', 'B4_corr', 'B4_dent_1', 'evi_imcorr2_1', 'evi_shade_1', 'B4_svar_1', 'B7_idm', 't0_vh_smoothed2_savg', 'B8']\n",
            "iter16\n",
            "['B11_savg', 'B4_corr_1', 't0_vh', 'evi_corr_1', 'B7_imcorr1', 'B8_corr', 'B4_ent_1', 'random', 't0_vh_hist_smoothed', 'B4_corr', 'B4_dent_1', 'evi_imcorr2_1', 'evi_shade_1', 'B4_svar_1', 'B7_idm', 't0_vh_smoothed2_savg', 'B8', 't0_vh_smoothed2_corr']\n",
            "iter17\n",
            "['B11_savg', 'B4_corr_1', 't0_vh', 'evi_corr_1', 'B7_imcorr1', 'B8_corr', 'B4_ent_1', 'random', 't0_vh_hist_smoothed', 'B4_corr', 'B4_dent_1', 'evi_imcorr2_1', 'evi_shade_1', 'B4_svar_1', 'B7_idm', 't0_vh_smoothed2_savg', 'B8', 't0_vh_smoothed2_corr', 'evi_imcorr1']\n",
            "iter18\n",
            "['B11_savg', 'B4_corr_1', 't0_vh', 'evi_corr_1', 'B7_imcorr1', 'B8_corr', 'B4_ent_1', 'random', 't0_vh_hist_smoothed', 'B4_corr', 'B4_dent_1', 'evi_imcorr2_1', 'evi_shade_1', 'B4_svar_1', 'B7_idm', 't0_vh_smoothed2_savg', 'B8', 't0_vh_smoothed2_corr', 'evi_imcorr1', 't0_vv_smoothed2_corr']\n",
            "iter19\n",
            "['B11_savg', 'B4_corr_1', 't0_vh', 'evi_corr_1', 'B7_imcorr1', 'B8_corr', 'B4_ent_1', 'random', 't0_vh_hist_smoothed', 'B4_corr', 'B4_dent_1', 'evi_imcorr2_1', 'evi_shade_1', 'B4_svar_1', 'B7_idm', 't0_vh_smoothed2_savg', 'B8', 't0_vh_smoothed2_corr', 'evi_imcorr1', 't0_vv_smoothed2_corr', 'B4_2']\n",
            "iter20\n",
            "['B11_savg', 'B4_corr_1', 't0_vh', 'evi_corr_1', 'B7_imcorr1', 'B8_corr', 'B4_ent_1', 'random', 't0_vh_hist_smoothed', 'B4_corr', 'B4_dent_1', 'evi_imcorr2_1', 'evi_shade_1', 'B4_svar_1', 'B7_idm', 't0_vh_smoothed2_savg', 'B8', 't0_vh_smoothed2_corr', 'evi_imcorr1', 't0_vv_smoothed2_corr', 'B4_2', 'B11_imcorr1']\n",
            "iter21\n",
            "['B11_savg', 'B4_corr_1', 't0_vh', 'evi_corr_1', 'B7_imcorr1', 'B8_corr', 'B4_ent_1', 'random', 't0_vh_hist_smoothed', 'B4_corr', 'B4_dent_1', 'evi_imcorr2_1', 'evi_shade_1', 'B4_svar_1', 'B7_idm', 't0_vh_smoothed2_savg', 'B8', 't0_vh_smoothed2_corr', 'evi_imcorr1', 't0_vv_smoothed2_corr', 'B4_2', 'B11_imcorr1', 'B4_sent']\n",
            "iter22\n",
            "['B11_savg', 'B4_corr_1', 't0_vh', 'evi_corr_1', 'B7_imcorr1', 'B8_corr', 'B4_ent_1', 'random', 't0_vh_hist_smoothed', 'B4_corr', 'B4_dent_1', 'evi_imcorr2_1', 'evi_shade_1', 'B4_svar_1', 'B7_idm', 't0_vh_smoothed2_savg', 'B8', 't0_vh_smoothed2_corr', 'evi_imcorr1', 't0_vv_smoothed2_corr', 'B4_2', 'B11_imcorr1', 'B4_sent', 'evi_prom_1']\n",
            "iter23\n",
            "['B11_savg', 'B4_corr_1', 't0_vh', 'evi_corr_1', 'B7_imcorr1', 'B8_corr', 'B4_ent_1', 'random', 't0_vh_hist_smoothed', 'B4_corr', 'B4_dent_1', 'evi_imcorr2_1', 'evi_shade_1', 'B4_svar_1', 'B7_idm', 't0_vh_smoothed2_savg', 'B8', 't0_vh_smoothed2_corr', 'evi_imcorr1', 't0_vv_smoothed2_corr', 'B4_2', 'B11_imcorr1', 'B4_sent', 'evi_prom_1', 'B4_var_1']\n",
            "iter24\n",
            "['B11_savg', 'B4_corr_1', 't0_vh', 'evi_corr_1', 'B7_imcorr1', 'B8_corr', 'B4_ent_1', 'random', 't0_vh_hist_smoothed', 'B4_corr', 'B4_dent_1', 'evi_imcorr2_1', 'evi_shade_1', 'B4_svar_1', 'B7_idm', 't0_vh_smoothed2_savg', 'B8', 't0_vh_smoothed2_corr', 'evi_imcorr1', 't0_vv_smoothed2_corr', 'B4_2', 'B11_imcorr1', 'B4_sent', 'evi_prom_1', 'B4_var_1', 'B7_corr']\n",
            "[0.32924099 0.48912844 0.59126697 0.64106471 0.65822802 0.6694727\n",
            " 0.67198238 0.67523521 0.67237588 0.68036429 0.68332786 0.69054853\n",
            " 0.68428395 0.69206551 0.68912315 0.68780458 0.69164545 0.69080849\n",
            " 0.69039151 0.68931632 0.68812188 0.68557384 0.68238493 0.67771782\n",
            " 0.67762198 0.67171307]\n"
          ],
          "name": "stdout"
        }
      ]
    },
    {
      "cell_type": "markdown",
      "metadata": {
        "colab_type": "text",
        "id": "bbFVah7B-tPj"
      },
      "source": [
        "# Sequential Feature Selection minimumDistance (neareast centroid)"
      ]
    },
    {
      "cell_type": "code",
      "metadata": {
        "colab_type": "code",
        "id": "K-sqzzNu-tPv",
        "colab": {}
      },
      "source": [
        "from sklearn.neighbors import NearestCentroid"
      ],
      "execution_count": 0,
      "outputs": []
    },
    {
      "cell_type": "code",
      "metadata": {
        "colab_type": "code",
        "outputId": "30f62b7e-b4f3-4951-be48-e478b288c2a9",
        "id": "IQ3puRb2-tP7",
        "colab": {
          "base_uri": "https://localhost:8080/",
          "height": 255
        }
      },
      "source": [
        "allBands = Xall.columns.tolist()\n",
        "\n",
        "acc_all = np.empty((len(allBands),1,))\n",
        "acc_all[:] = np.nan\n",
        "\n",
        "\n",
        "for ff in range(0,len(allBands)):\n",
        "\n",
        "    targetBand = allBands[ff]\n",
        "\n",
        "    X2 = Xall[targetBand].copy()\n",
        "    X2 = np.array([X2]).T       \n",
        "\n",
        "    acc = np.empty((10,1,))\n",
        "    acc[:] = np.nan\n",
        "\n",
        "    X_train = X2[folders<3.5]\n",
        "    y_train = y2[folders<3.5]\n",
        "    X_test = X2[folders>3.5]\n",
        "    y_test = y2[folders>3.5]\n",
        "      \n",
        "    X_train -= X_train.min()\n",
        "    X_train /= X_train.max() \n",
        "    X_test -= X_test.min()\n",
        "    X_test /= X_test.max() \n",
        "\n",
        "    if pd.Series(X_train[:,0]).isnull().values.any():\n",
        "      acc = 0\n",
        "    else:\n",
        "      model = NearestCentroid(shrink_threshold=None)\n",
        "      model = model.fit(X_train,y_train)\n",
        "      acc_ii=kappa_ii = cohen_kappa_score(model.predict(X_test), y_test)\n",
        "      acc = acc_ii\n",
        "\n",
        "    acc_all[ff] = acc\n",
        "    "
      ],
      "execution_count": 0,
      "outputs": [
        {
          "output_type": "stream",
          "text": [
            "/usr/local/lib/python3.6/dist-packages/ipykernel_launcher.py:23: RuntimeWarning: invalid value encountered in true_divide\n",
            "/usr/local/lib/python3.6/dist-packages/ipykernel_launcher.py:25: RuntimeWarning: invalid value encountered in true_divide\n",
            "/usr/local/lib/python3.6/dist-packages/ipykernel_launcher.py:23: RuntimeWarning: invalid value encountered in true_divide\n",
            "/usr/local/lib/python3.6/dist-packages/ipykernel_launcher.py:25: RuntimeWarning: invalid value encountered in true_divide\n",
            "/usr/local/lib/python3.6/dist-packages/ipykernel_launcher.py:23: RuntimeWarning: invalid value encountered in true_divide\n",
            "/usr/local/lib/python3.6/dist-packages/ipykernel_launcher.py:25: RuntimeWarning: invalid value encountered in true_divide\n",
            "/usr/local/lib/python3.6/dist-packages/ipykernel_launcher.py:23: RuntimeWarning: invalid value encountered in true_divide\n",
            "/usr/local/lib/python3.6/dist-packages/ipykernel_launcher.py:25: RuntimeWarning: invalid value encountered in true_divide\n",
            "/usr/local/lib/python3.6/dist-packages/ipykernel_launcher.py:23: RuntimeWarning: invalid value encountered in true_divide\n",
            "/usr/local/lib/python3.6/dist-packages/ipykernel_launcher.py:25: RuntimeWarning: invalid value encountered in true_divide\n",
            "/usr/local/lib/python3.6/dist-packages/ipykernel_launcher.py:23: RuntimeWarning: invalid value encountered in true_divide\n",
            "/usr/local/lib/python3.6/dist-packages/ipykernel_launcher.py:25: RuntimeWarning: invalid value encountered in true_divide\n",
            "/usr/local/lib/python3.6/dist-packages/ipykernel_launcher.py:23: RuntimeWarning: invalid value encountered in true_divide\n",
            "/usr/local/lib/python3.6/dist-packages/ipykernel_launcher.py:25: RuntimeWarning: invalid value encountered in true_divide\n"
          ],
          "name": "stderr"
        }
      ]
    },
    {
      "cell_type": "code",
      "metadata": {
        "colab_type": "code",
        "outputId": "7654c5c3-978f-443c-8aec-98a005209a75",
        "id": "go2dQS-o-tQH",
        "colab": {
          "base_uri": "https://localhost:8080/",
          "height": 68
        }
      },
      "source": [
        "features = Xall.columns.values\n",
        "print(np.max(acc_all))\n",
        "print(np.argmax(acc_all))\n",
        "print(allBands[np.argmax(acc_all)])\n",
        "\n",
        "firstBands = allBands[np.argmax(acc_all)]\n",
        "\n",
        "selectedKappa = np.empty((26,1,))\n",
        "selectedKappa[:] = np.nan\n",
        "selectedKappa[0] = np.max(acc_all)"
      ],
      "execution_count": 0,
      "outputs": [
        {
          "output_type": "stream",
          "text": [
            "0.6447892010446477\n",
            "172\n",
            "t0_vv_smoothed2\n"
          ],
          "name": "stdout"
        }
      ]
    },
    {
      "cell_type": "code",
      "metadata": {
        "colab_type": "code",
        "outputId": "599f25bf-40bd-43fb-bfb7-998378d449a9",
        "id": "KdX_J44y-tQY",
        "colab": {
          "base_uri": "https://localhost:8080/",
          "height": 972
        }
      },
      "source": [
        "selected_bands = [firstBands];\n",
        "bands2 = allBands.copy()\n",
        "bands2.remove(firstBands)\n",
        "\n",
        "for iter in range(0,25):\n",
        "\n",
        "  acc_all = np.empty((len(bands2),1,))\n",
        "  acc_all[:] = np.nan\n",
        "\n",
        "  for ff in range(0,len(bands2)):\n",
        "\n",
        "      \n",
        "      listTarget = [bands2[ff]]\n",
        "      listTarget.extend(selected_bands)\n",
        "\n",
        "      X2 = df[listTarget]\n",
        "\n",
        "      acc = np.empty((10,1,))\n",
        "      acc[:] = np.nan\n",
        "      \n",
        "\n",
        "      X_train = X2[folders<3.5]\n",
        "      y_train = y2[folders<3.5]\n",
        "      X_test = X2[folders>3.5]\n",
        "      y_test = y2[folders>3.5]\n",
        "        \n",
        "      X_train -= X_train.min()\n",
        "      X_train /= X_train.max() \n",
        "      X_test -= X_test.min()\n",
        "      X_test /= X_test.max()    \n",
        "        \n",
        "\n",
        "      if pd.Series(X_train[bands2[ff]]).isnull().values.any():\n",
        "        acc = 0\n",
        "      else:\n",
        "        model = NearestCentroid(shrink_threshold=None)\n",
        "        model = model.fit(X_train,y_train)\n",
        "        acc_ii=kappa_ii = cohen_kappa_score(model.predict(X_test), y_test)\n",
        "        acc = acc_ii\n",
        "\n",
        "      acc_all[ff] = acc\n",
        "\n",
        "\n",
        "  bandSelected = bands2[np.argmax(acc_all)]\n",
        "  bands2.remove(bandSelected)\n",
        "  selected_bands.append(bandSelected)\n",
        "  selectedKappa[1+iter] = max(acc_all)\n",
        "  print('iter'+str(iter))\n",
        "  print(selected_bands)\n",
        "print(selectedKappa[:,0])"
      ],
      "execution_count": 0,
      "outputs": [
        {
          "output_type": "stream",
          "text": [
            "iter0\n",
            "['t0_vv_smoothed2', 't0_vh_hist_smoothed']\n",
            "iter1\n",
            "['t0_vv_smoothed2', 't0_vh_hist_smoothed', 't0_vh_smoothed2']\n",
            "iter2\n",
            "['t0_vv_smoothed2', 't0_vh_hist_smoothed', 't0_vh_smoothed2', 'B6']\n",
            "iter3\n",
            "['t0_vv_smoothed2', 't0_vh_hist_smoothed', 't0_vh_smoothed2', 'B6', 'B11_asm']\n",
            "iter4\n",
            "['t0_vv_smoothed2', 't0_vh_hist_smoothed', 't0_vh_smoothed2', 'B6', 'B11_asm', 'evi_idm_1']\n",
            "iter5\n",
            "['t0_vv_smoothed2', 't0_vh_hist_smoothed', 't0_vh_smoothed2', 'B6', 'B11_asm', 'evi_idm_1', 'evi_shade']\n",
            "iter6\n",
            "['t0_vv_smoothed2', 't0_vh_hist_smoothed', 't0_vh_smoothed2', 'B6', 'B11_asm', 'evi_idm_1', 'evi_shade', 't0_vh_smoothed2_imcorr1']\n",
            "iter7\n",
            "['t0_vv_smoothed2', 't0_vh_hist_smoothed', 't0_vh_smoothed2', 'B6', 'B11_asm', 'evi_idm_1', 'evi_shade', 't0_vh_smoothed2_imcorr1', 'B4_prom']\n",
            "iter8\n",
            "['t0_vv_smoothed2', 't0_vh_hist_smoothed', 't0_vh_smoothed2', 'B6', 'B11_asm', 'evi_idm_1', 'evi_shade', 't0_vh_smoothed2_imcorr1', 'B4_prom', 't0_vv_smoothed2_imcorr1']\n",
            "iter9\n",
            "['t0_vv_smoothed2', 't0_vh_hist_smoothed', 't0_vh_smoothed2', 'B6', 'B11_asm', 'evi_idm_1', 'evi_shade', 't0_vh_smoothed2_imcorr1', 'B4_prom', 't0_vv_smoothed2_imcorr1', 't0_vv_smoothed2_prom']\n",
            "iter10\n",
            "['t0_vv_smoothed2', 't0_vh_hist_smoothed', 't0_vh_smoothed2', 'B6', 'B11_asm', 'evi_idm_1', 'evi_shade', 't0_vh_smoothed2_imcorr1', 'B4_prom', 't0_vv_smoothed2_imcorr1', 't0_vv_smoothed2_prom', 'B4_shade']\n",
            "iter11\n",
            "['t0_vv_smoothed2', 't0_vh_hist_smoothed', 't0_vh_smoothed2', 'B6', 'B11_asm', 'evi_idm_1', 'evi_shade', 't0_vh_smoothed2_imcorr1', 'B4_prom', 't0_vv_smoothed2_imcorr1', 't0_vv_smoothed2_prom', 'B4_shade', 'B8_imcorr2']\n",
            "iter12\n",
            "['t0_vv_smoothed2', 't0_vh_hist_smoothed', 't0_vh_smoothed2', 'B6', 'B11_asm', 'evi_idm_1', 'evi_shade', 't0_vh_smoothed2_imcorr1', 'B4_prom', 't0_vv_smoothed2_imcorr1', 't0_vv_smoothed2_prom', 'B4_shade', 'B8_imcorr2', 'evi_asm']\n",
            "iter13\n",
            "['t0_vv_smoothed2', 't0_vh_hist_smoothed', 't0_vh_smoothed2', 'B6', 'B11_asm', 'evi_idm_1', 'evi_shade', 't0_vh_smoothed2_imcorr1', 'B4_prom', 't0_vv_smoothed2_imcorr1', 't0_vv_smoothed2_prom', 'B4_shade', 'B8_imcorr2', 'evi_asm', 'B11_imcorr2']\n",
            "iter14\n",
            "['t0_vv_smoothed2', 't0_vh_hist_smoothed', 't0_vh_smoothed2', 'B6', 'B11_asm', 'evi_idm_1', 'evi_shade', 't0_vh_smoothed2_imcorr1', 'B4_prom', 't0_vv_smoothed2_imcorr1', 't0_vv_smoothed2_prom', 'B4_shade', 'B8_imcorr2', 'evi_asm', 'B11_imcorr2', 'B7_asm']\n",
            "iter15\n",
            "['t0_vv_smoothed2', 't0_vh_hist_smoothed', 't0_vh_smoothed2', 'B6', 'B11_asm', 'evi_idm_1', 'evi_shade', 't0_vh_smoothed2_imcorr1', 'B4_prom', 't0_vv_smoothed2_imcorr1', 't0_vv_smoothed2_prom', 'B4_shade', 'B8_imcorr2', 'evi_asm', 'B11_imcorr2', 'B7_asm', 't0_vh_smoothed2_idm']\n",
            "iter16\n",
            "['t0_vv_smoothed2', 't0_vh_hist_smoothed', 't0_vh_smoothed2', 'B6', 'B11_asm', 'evi_idm_1', 'evi_shade', 't0_vh_smoothed2_imcorr1', 'B4_prom', 't0_vv_smoothed2_imcorr1', 't0_vv_smoothed2_prom', 'B4_shade', 'B8_imcorr2', 'evi_asm', 'B11_imcorr2', 'B7_asm', 't0_vh_smoothed2_idm', 't0_vh_smoothed3']\n",
            "iter17\n",
            "['t0_vv_smoothed2', 't0_vh_hist_smoothed', 't0_vh_smoothed2', 'B6', 'B11_asm', 'evi_idm_1', 'evi_shade', 't0_vh_smoothed2_imcorr1', 'B4_prom', 't0_vv_smoothed2_imcorr1', 't0_vv_smoothed2_prom', 'B4_shade', 'B8_imcorr2', 'evi_asm', 'B11_imcorr2', 'B7_asm', 't0_vh_smoothed2_idm', 't0_vh_smoothed3', 'B11_prom']\n",
            "iter18\n",
            "['t0_vv_smoothed2', 't0_vh_hist_smoothed', 't0_vh_smoothed2', 'B6', 'B11_asm', 'evi_idm_1', 'evi_shade', 't0_vh_smoothed2_imcorr1', 'B4_prom', 't0_vv_smoothed2_imcorr1', 't0_vv_smoothed2_prom', 'B4_shade', 'B8_imcorr2', 'evi_asm', 'B11_imcorr2', 'B7_asm', 't0_vh_smoothed2_idm', 't0_vh_smoothed3', 'B11_prom', 't0_vh_smoothed2_asm']\n",
            "iter19\n",
            "['t0_vv_smoothed2', 't0_vh_hist_smoothed', 't0_vh_smoothed2', 'B6', 'B11_asm', 'evi_idm_1', 'evi_shade', 't0_vh_smoothed2_imcorr1', 'B4_prom', 't0_vv_smoothed2_imcorr1', 't0_vv_smoothed2_prom', 'B4_shade', 'B8_imcorr2', 'evi_asm', 'B11_imcorr2', 'B7_asm', 't0_vh_smoothed2_idm', 't0_vh_smoothed3', 'B11_prom', 't0_vh_smoothed2_asm', 'evi_asm_1']\n",
            "iter20\n",
            "['t0_vv_smoothed2', 't0_vh_hist_smoothed', 't0_vh_smoothed2', 'B6', 'B11_asm', 'evi_idm_1', 'evi_shade', 't0_vh_smoothed2_imcorr1', 'B4_prom', 't0_vv_smoothed2_imcorr1', 't0_vv_smoothed2_prom', 'B4_shade', 'B8_imcorr2', 'evi_asm', 'B11_imcorr2', 'B7_asm', 't0_vh_smoothed2_idm', 't0_vh_smoothed3', 'B11_prom', 't0_vh_smoothed2_asm', 'evi_asm_1', 't0_vh_smoothed2_imcorr2']\n",
            "iter21\n",
            "['t0_vv_smoothed2', 't0_vh_hist_smoothed', 't0_vh_smoothed2', 'B6', 'B11_asm', 'evi_idm_1', 'evi_shade', 't0_vh_smoothed2_imcorr1', 'B4_prom', 't0_vv_smoothed2_imcorr1', 't0_vv_smoothed2_prom', 'B4_shade', 'B8_imcorr2', 'evi_asm', 'B11_imcorr2', 'B7_asm', 't0_vh_smoothed2_idm', 't0_vh_smoothed3', 'B11_prom', 't0_vh_smoothed2_asm', 'evi_asm_1', 't0_vh_smoothed2_imcorr2', 't0_vv_smoothed2_sent']\n",
            "iter22\n",
            "['t0_vv_smoothed2', 't0_vh_hist_smoothed', 't0_vh_smoothed2', 'B6', 'B11_asm', 'evi_idm_1', 'evi_shade', 't0_vh_smoothed2_imcorr1', 'B4_prom', 't0_vv_smoothed2_imcorr1', 't0_vv_smoothed2_prom', 'B4_shade', 'B8_imcorr2', 'evi_asm', 'B11_imcorr2', 'B7_asm', 't0_vh_smoothed2_idm', 't0_vh_smoothed3', 'B11_prom', 't0_vh_smoothed2_asm', 'evi_asm_1', 't0_vh_smoothed2_imcorr2', 't0_vv_smoothed2_sent', 't0_vh_smoothed2_sent']\n",
            "iter23\n",
            "['t0_vv_smoothed2', 't0_vh_hist_smoothed', 't0_vh_smoothed2', 'B6', 'B11_asm', 'evi_idm_1', 'evi_shade', 't0_vh_smoothed2_imcorr1', 'B4_prom', 't0_vv_smoothed2_imcorr1', 't0_vv_smoothed2_prom', 'B4_shade', 'B8_imcorr2', 'evi_asm', 'B11_imcorr2', 'B7_asm', 't0_vh_smoothed2_idm', 't0_vh_smoothed3', 'B11_prom', 't0_vh_smoothed2_asm', 'evi_asm_1', 't0_vh_smoothed2_imcorr2', 't0_vv_smoothed2_sent', 't0_vh_smoothed2_sent', 't0_vv_smoothed2_imcorr2']\n",
            "iter24\n",
            "['t0_vv_smoothed2', 't0_vh_hist_smoothed', 't0_vh_smoothed2', 'B6', 'B11_asm', 'evi_idm_1', 'evi_shade', 't0_vh_smoothed2_imcorr1', 'B4_prom', 't0_vv_smoothed2_imcorr1', 't0_vv_smoothed2_prom', 'B4_shade', 'B8_imcorr2', 'evi_asm', 'B11_imcorr2', 'B7_asm', 't0_vh_smoothed2_idm', 't0_vh_smoothed3', 'B11_prom', 't0_vh_smoothed2_asm', 'evi_asm_1', 't0_vh_smoothed2_imcorr2', 't0_vv_smoothed2_sent', 't0_vh_smoothed2_sent', 't0_vv_smoothed2_imcorr2', 'B8_asm']\n",
            "[0.6447892  0.75538684 0.8127031  0.84246165 0.84337435 0.84648085\n",
            " 0.85406974 0.85572804 0.85572804 0.85490593 0.85490593 0.85655024\n",
            " 0.85490593 0.85408389 0.85397061 0.85642491 0.85646671 0.85823611\n",
            " 0.85905831 0.85907197 0.85661976 0.85333305 0.85416874 0.85254015\n",
            " 0.85171891 0.85009119]\n"
          ],
          "name": "stdout"
        }
      ]
    },
    {
      "cell_type": "markdown",
      "metadata": {
        "colab_type": "text",
        "id": "iCbC1avZCQCx"
      },
      "source": [
        "# Sequential Feature Selection CART\n"
      ]
    },
    {
      "cell_type": "code",
      "metadata": {
        "colab_type": "code",
        "id": "kw-FZlcXCQC5",
        "colab": {}
      },
      "source": [
        "from sklearn.tree import DecisionTreeClassifier"
      ],
      "execution_count": 0,
      "outputs": []
    },
    {
      "cell_type": "code",
      "metadata": {
        "colab_type": "code",
        "outputId": "3569b5b4-4fe1-486f-b5a6-6f74b4c3f0e7",
        "id": "K5HXjH_uCQDB",
        "colab": {
          "base_uri": "https://localhost:8080/",
          "height": 255
        }
      },
      "source": [
        "allBands = Xall.columns.tolist()\n",
        "\n",
        "\n",
        "\n",
        "acc_all = np.empty((len(allBands),1,))\n",
        "acc_all[:] = np.nan\n",
        "\n",
        "\n",
        "for ff in range(0,len(allBands)):\n",
        "\n",
        "    targetBand = allBands[ff]\n",
        "\n",
        "    X2 = Xall[targetBand].copy()\n",
        "    X2 = np.array([X2]).T       \n",
        "\n",
        "    acc = np.empty((10,1,))\n",
        "    acc[:] = np.nan\n",
        "\n",
        "    X_train = X2[folders<3.5]\n",
        "    y_train = y2[folders<3.5]\n",
        "    X_test = X2[folders>3.5]\n",
        "    y_test = y2[folders>3.5]\n",
        "      \n",
        "    X_train -= X_train.min()\n",
        "    X_train /= X_train.max() \n",
        "    X_test -= X_test.min()\n",
        "    X_test /= X_test.max() \n",
        "\n",
        "    if pd.Series(X_train[:,0]).isnull().values.any():\n",
        "      acc = 0\n",
        "    else:\n",
        "      model = DecisionTreeClassifier(max_depth= 8, max_features= 0.8, min_samples_leaf= 1,random_state=SEED)\n",
        "      model = model.fit(X_train,y_train)\n",
        "      acc_ii=kappa_ii = cohen_kappa_score(model.predict(X_test), y_test)\n",
        "      acc = acc_ii\n",
        "\n",
        "    acc_all[ff] = acc\n",
        "    "
      ],
      "execution_count": 0,
      "outputs": [
        {
          "output_type": "stream",
          "text": [
            "/usr/local/lib/python3.6/dist-packages/ipykernel_launcher.py:25: RuntimeWarning: invalid value encountered in true_divide\n",
            "/usr/local/lib/python3.6/dist-packages/ipykernel_launcher.py:27: RuntimeWarning: invalid value encountered in true_divide\n",
            "/usr/local/lib/python3.6/dist-packages/ipykernel_launcher.py:25: RuntimeWarning: invalid value encountered in true_divide\n",
            "/usr/local/lib/python3.6/dist-packages/ipykernel_launcher.py:27: RuntimeWarning: invalid value encountered in true_divide\n",
            "/usr/local/lib/python3.6/dist-packages/ipykernel_launcher.py:25: RuntimeWarning: invalid value encountered in true_divide\n",
            "/usr/local/lib/python3.6/dist-packages/ipykernel_launcher.py:27: RuntimeWarning: invalid value encountered in true_divide\n",
            "/usr/local/lib/python3.6/dist-packages/ipykernel_launcher.py:25: RuntimeWarning: invalid value encountered in true_divide\n",
            "/usr/local/lib/python3.6/dist-packages/ipykernel_launcher.py:27: RuntimeWarning: invalid value encountered in true_divide\n",
            "/usr/local/lib/python3.6/dist-packages/ipykernel_launcher.py:25: RuntimeWarning: invalid value encountered in true_divide\n",
            "/usr/local/lib/python3.6/dist-packages/ipykernel_launcher.py:27: RuntimeWarning: invalid value encountered in true_divide\n",
            "/usr/local/lib/python3.6/dist-packages/ipykernel_launcher.py:25: RuntimeWarning: invalid value encountered in true_divide\n",
            "/usr/local/lib/python3.6/dist-packages/ipykernel_launcher.py:27: RuntimeWarning: invalid value encountered in true_divide\n",
            "/usr/local/lib/python3.6/dist-packages/ipykernel_launcher.py:25: RuntimeWarning: invalid value encountered in true_divide\n",
            "/usr/local/lib/python3.6/dist-packages/ipykernel_launcher.py:27: RuntimeWarning: invalid value encountered in true_divide\n"
          ],
          "name": "stderr"
        }
      ]
    },
    {
      "cell_type": "code",
      "metadata": {
        "colab_type": "code",
        "outputId": "54c8f03c-4e37-4c8a-fe30-de5307dc865b",
        "id": "og1FJIezCQDJ",
        "colab": {
          "base_uri": "https://localhost:8080/",
          "height": 68
        }
      },
      "source": [
        "features = Xall.columns.values\n",
        "print(np.max(acc_all))\n",
        "print(np.argmax(acc_all))\n",
        "print(allBands[np.argmax(acc_all)])\n",
        "\n",
        "firstBands = allBands[np.argmax(acc_all)]\n",
        "\n",
        "selectedKappa = np.empty((26,1,))\n",
        "selectedKappa[:] = np.nan\n",
        "selectedKappa[0] = np.max(acc_all)"
      ],
      "execution_count": 0,
      "outputs": [
        {
          "output_type": "stream",
          "text": [
            "0.6837535951686399\n",
            "1\n",
            "B11_1\n"
          ],
          "name": "stdout"
        }
      ]
    },
    {
      "cell_type": "code",
      "metadata": {
        "colab_type": "code",
        "outputId": "95a42c60-55fc-41c7-869c-0f34ee76d539",
        "id": "9GTj_I-MCQDT",
        "colab": {
          "base_uri": "https://localhost:8080/",
          "height": 972
        }
      },
      "source": [
        "selected_bands = [firstBands];\n",
        "bands2 = allBands.copy()\n",
        "bands2.remove(firstBands)\n",
        "\n",
        "for iter in range(0,25):\n",
        "\n",
        "  acc_all = np.empty((len(bands2),1,))\n",
        "  acc_all[:] = np.nan\n",
        "\n",
        "  for ff in range(0,len(bands2)):\n",
        "\n",
        "      listTarget = [bands2[ff]]\n",
        "      listTarget.extend(selected_bands)\n",
        " \n",
        "      X2 = df[listTarget]\n",
        "\n",
        "      acc = np.empty((10,1,))\n",
        "      acc[:] = np.nan\n",
        "      \n",
        "\n",
        "      X_train = X2[folders<3.5]\n",
        "      y_train = y2[folders<3.5]\n",
        "      X_test = X2[folders>3.5]\n",
        "      y_test = y2[folders>3.5]\n",
        "        \n",
        "\n",
        "      if pd.Series(X_train[bands2[ff]]).isnull().values.any():\n",
        "        acc = 0\n",
        "      else:\n",
        "        model = DecisionTreeClassifier(max_depth= 8, max_features= 0.8, min_samples_leaf= 1,random_state=SEED)\n",
        "        model = model.fit(X_train,y_train)\n",
        "        acc_ii=kappa_ii = cohen_kappa_score(model.predict(X_test), y_test)\n",
        "        acc = acc_ii\n",
        "\n",
        "      acc_all[ff] = acc\n",
        "\n",
        "\n",
        "  bandSelected = bands2[np.argmax(acc_all)]\n",
        "  bands2.remove(bandSelected)\n",
        "  selected_bands.append(bandSelected)\n",
        "  selectedKappa[1+iter] = max(acc_all)\n",
        "  print('iter'+str(iter))\n",
        "  print(selected_bands)\n",
        "print(selectedKappa[:,0])"
      ],
      "execution_count": 0,
      "outputs": [
        {
          "output_type": "stream",
          "text": [
            "iter0\n",
            "['B11_1', 't0_vh_smoothed2']\n",
            "iter1\n",
            "['B11_1', 't0_vh_smoothed2', 't0_vv_hist_smoothed2']\n",
            "iter2\n",
            "['B11_1', 't0_vh_smoothed2', 't0_vv_hist_smoothed2', 't0_vh_hist_smoothed2']\n",
            "iter3\n",
            "['B11_1', 't0_vh_smoothed2', 't0_vv_hist_smoothed2', 't0_vh_hist_smoothed2', 'B7_savg']\n",
            "iter4\n",
            "['B11_1', 't0_vh_smoothed2', 't0_vv_hist_smoothed2', 't0_vh_hist_smoothed2', 'B7_savg', 'B7_ent']\n",
            "iter5\n",
            "['B11_1', 't0_vh_smoothed2', 't0_vv_hist_smoothed2', 't0_vh_hist_smoothed2', 'B7_savg', 'B7_ent', 'B4_1']\n",
            "iter6\n",
            "['B11_1', 't0_vh_smoothed2', 't0_vv_hist_smoothed2', 't0_vh_hist_smoothed2', 'B7_savg', 'B7_ent', 'B4_1', 'B11_savg']\n",
            "iter7\n",
            "['B11_1', 't0_vh_smoothed2', 't0_vv_hist_smoothed2', 't0_vh_hist_smoothed2', 'B7_savg', 'B7_ent', 'B4_1', 'B11_savg', 'evi_savg']\n",
            "iter8\n",
            "['B11_1', 't0_vh_smoothed2', 't0_vv_hist_smoothed2', 't0_vh_hist_smoothed2', 'B7_savg', 'B7_ent', 'B4_1', 'B11_savg', 'evi_savg', 't0_vh_smoothed2_imcorr2']\n",
            "iter9\n",
            "['B11_1', 't0_vh_smoothed2', 't0_vv_hist_smoothed2', 't0_vh_hist_smoothed2', 'B7_savg', 'B7_ent', 'B4_1', 'B11_savg', 'evi_savg', 't0_vh_smoothed2_imcorr2', 'B11_maxcorr']\n",
            "iter10\n",
            "['B11_1', 't0_vh_smoothed2', 't0_vv_hist_smoothed2', 't0_vh_hist_smoothed2', 'B7_savg', 'B7_ent', 'B4_1', 'B11_savg', 'evi_savg', 't0_vh_smoothed2_imcorr2', 'B11_maxcorr', 'B4_imcorr1']\n",
            "iter11\n",
            "['B11_1', 't0_vh_smoothed2', 't0_vv_hist_smoothed2', 't0_vh_hist_smoothed2', 'B7_savg', 'B7_ent', 'B4_1', 'B11_savg', 'evi_savg', 't0_vh_smoothed2_imcorr2', 'B11_maxcorr', 'B4_imcorr1', 't0_vv_hist_smoothed']\n",
            "iter12\n",
            "['B11_1', 't0_vh_smoothed2', 't0_vv_hist_smoothed2', 't0_vh_hist_smoothed2', 'B7_savg', 'B7_ent', 'B4_1', 'B11_savg', 'evi_savg', 't0_vh_smoothed2_imcorr2', 'B11_maxcorr', 'B4_imcorr1', 't0_vv_hist_smoothed', 'B8A']\n",
            "iter13\n",
            "['B11_1', 't0_vh_smoothed2', 't0_vv_hist_smoothed2', 't0_vh_hist_smoothed2', 'B7_savg', 'B7_ent', 'B4_1', 'B11_savg', 'evi_savg', 't0_vh_smoothed2_imcorr2', 'B11_maxcorr', 'B4_imcorr1', 't0_vv_hist_smoothed', 'B8A', 'B12_1']\n",
            "iter14\n",
            "['B11_1', 't0_vh_smoothed2', 't0_vv_hist_smoothed2', 't0_vh_hist_smoothed2', 'B7_savg', 'B7_ent', 'B4_1', 'B11_savg', 'evi_savg', 't0_vh_smoothed2_imcorr2', 'B11_maxcorr', 'B4_imcorr1', 't0_vv_hist_smoothed', 'B8A', 'B12_1', 'B4_maxcorr']\n",
            "iter15\n",
            "['B11_1', 't0_vh_smoothed2', 't0_vv_hist_smoothed2', 't0_vh_hist_smoothed2', 'B7_savg', 'B7_ent', 'B4_1', 'B11_savg', 'evi_savg', 't0_vh_smoothed2_imcorr2', 'B11_maxcorr', 'B4_imcorr1', 't0_vv_hist_smoothed', 'B8A', 'B12_1', 'B4_maxcorr', 't0_vv_smoothed2']\n",
            "iter16\n",
            "['B11_1', 't0_vh_smoothed2', 't0_vv_hist_smoothed2', 't0_vh_hist_smoothed2', 'B7_savg', 'B7_ent', 'B4_1', 'B11_savg', 'evi_savg', 't0_vh_smoothed2_imcorr2', 'B11_maxcorr', 'B4_imcorr1', 't0_vv_hist_smoothed', 'B8A', 'B12_1', 'B4_maxcorr', 't0_vv_smoothed2', 'B4_maxcorr_1']\n",
            "iter17\n",
            "['B11_1', 't0_vh_smoothed2', 't0_vv_hist_smoothed2', 't0_vh_hist_smoothed2', 'B7_savg', 'B7_ent', 'B4_1', 'B11_savg', 'evi_savg', 't0_vh_smoothed2_imcorr2', 'B11_maxcorr', 'B4_imcorr1', 't0_vv_hist_smoothed', 'B8A', 'B12_1', 'B4_maxcorr', 't0_vv_smoothed2', 'B4_maxcorr_1', 'B4_asm_1']\n",
            "iter18\n",
            "['B11_1', 't0_vh_smoothed2', 't0_vv_hist_smoothed2', 't0_vh_hist_smoothed2', 'B7_savg', 'B7_ent', 'B4_1', 'B11_savg', 'evi_savg', 't0_vh_smoothed2_imcorr2', 'B11_maxcorr', 'B4_imcorr1', 't0_vv_hist_smoothed', 'B8A', 'B12_1', 'B4_maxcorr', 't0_vv_smoothed2', 'B4_maxcorr_1', 'B4_asm_1', 'B12']\n",
            "iter19\n",
            "['B11_1', 't0_vh_smoothed2', 't0_vv_hist_smoothed2', 't0_vh_hist_smoothed2', 'B7_savg', 'B7_ent', 'B4_1', 'B11_savg', 'evi_savg', 't0_vh_smoothed2_imcorr2', 'B11_maxcorr', 'B4_imcorr1', 't0_vv_hist_smoothed', 'B8A', 'B12_1', 'B4_maxcorr', 't0_vv_smoothed2', 'B4_maxcorr_1', 'B4_asm_1', 'B12', 'B7_maxcorr']\n",
            "iter20\n",
            "['B11_1', 't0_vh_smoothed2', 't0_vv_hist_smoothed2', 't0_vh_hist_smoothed2', 'B7_savg', 'B7_ent', 'B4_1', 'B11_savg', 'evi_savg', 't0_vh_smoothed2_imcorr2', 'B11_maxcorr', 'B4_imcorr1', 't0_vv_hist_smoothed', 'B8A', 'B12_1', 'B4_maxcorr', 't0_vv_smoothed2', 'B4_maxcorr_1', 'B4_asm_1', 'B12', 'B7_maxcorr', 'B4_corr']\n",
            "iter21\n",
            "['B11_1', 't0_vh_smoothed2', 't0_vv_hist_smoothed2', 't0_vh_hist_smoothed2', 'B7_savg', 'B7_ent', 'B4_1', 'B11_savg', 'evi_savg', 't0_vh_smoothed2_imcorr2', 'B11_maxcorr', 'B4_imcorr1', 't0_vv_hist_smoothed', 'B8A', 'B12_1', 'B4_maxcorr', 't0_vv_smoothed2', 'B4_maxcorr_1', 'B4_asm_1', 'B12', 'B7_maxcorr', 'B4_corr', 't0_vv_smoothed3']\n",
            "iter22\n",
            "['B11_1', 't0_vh_smoothed2', 't0_vv_hist_smoothed2', 't0_vh_hist_smoothed2', 'B7_savg', 'B7_ent', 'B4_1', 'B11_savg', 'evi_savg', 't0_vh_smoothed2_imcorr2', 'B11_maxcorr', 'B4_imcorr1', 't0_vv_hist_smoothed', 'B8A', 'B12_1', 'B4_maxcorr', 't0_vv_smoothed2', 'B4_maxcorr_1', 'B4_asm_1', 'B12', 'B7_maxcorr', 'B4_corr', 't0_vv_smoothed3', 'B4_svar']\n",
            "iter23\n",
            "['B11_1', 't0_vh_smoothed2', 't0_vv_hist_smoothed2', 't0_vh_hist_smoothed2', 'B7_savg', 'B7_ent', 'B4_1', 'B11_savg', 'evi_savg', 't0_vh_smoothed2_imcorr2', 'B11_maxcorr', 'B4_imcorr1', 't0_vv_hist_smoothed', 'B8A', 'B12_1', 'B4_maxcorr', 't0_vv_smoothed2', 'B4_maxcorr_1', 'B4_asm_1', 'B12', 'B7_maxcorr', 'B4_corr', 't0_vv_smoothed3', 'B4_svar', 'B8_maxcorr']\n",
            "iter24\n",
            "['B11_1', 't0_vh_smoothed2', 't0_vv_hist_smoothed2', 't0_vh_hist_smoothed2', 'B7_savg', 'B7_ent', 'B4_1', 'B11_savg', 'evi_savg', 't0_vh_smoothed2_imcorr2', 'B11_maxcorr', 'B4_imcorr1', 't0_vv_hist_smoothed', 'B8A', 'B12_1', 'B4_maxcorr', 't0_vv_smoothed2', 'B4_maxcorr_1', 'B4_asm_1', 'B12', 'B7_maxcorr', 'B4_corr', 't0_vv_smoothed3', 'B4_svar', 'B8_maxcorr', 'B8_1']\n",
            "[0.6837536  0.84909485 0.90187491 0.91268955 0.92435301 0.9259868\n",
            " 0.91012066 0.91013815 0.92595799 0.92341375 0.92595079 0.92760777\n",
            " 0.92843638 0.92931323 0.92600839 0.91508916 0.9176627  0.92930636\n",
            " 0.93178484 0.92013835 0.89438566 0.9276289  0.90671916 0.92092022\n",
            " 0.91348321 0.91587657]\n"
          ],
          "name": "stdout"
        }
      ]
    },
    {
      "cell_type": "markdown",
      "metadata": {
        "id": "Q7HkpnTMsIKC",
        "colab_type": "text"
      },
      "source": [
        "# Figure model comparison - setup1"
      ]
    },
    {
      "cell_type": "code",
      "metadata": {
        "id": "_n8xARf8sG4g",
        "colab_type": "code",
        "outputId": "c5693b73-10e7-49db-b884-6eafc8e83859",
        "colab": {
          "base_uri": "https://localhost:8080/",
          "height": 255
        }
      },
      "source": [
        "# RESULTS OF THE SFS for the first band (random forest)\n",
        "\n",
        "bands_RF = ['B11_savg', 't0_vh_smoothed2_savg', 'B4_corr_1', 't0_vv_hist_smoothed2', 'B8_savg', 'B4_svar_1', 't0_vv_smoothed2_imcorr2', 't0_vh_hist_smoothed2', 't0_vv_smoothed2', 'evi_imcorr1_1', 'B4_1', 'evi_corr_1', 't0_vh', 'B4_savg_1', 't0_vv_smoothed2_prom', 'B3', 'B3_1', 'evi_corr', 't0_vv_smoothed2_savg', 'B11_var', 'B4_dvar_1', 'B7_dent', 't0_vh_smoothed2', 'evi_diss_1', 'B4_diss_1', 'B4_shade_1']\n",
        "Kappa_RF = [0.43421035,0.67352213,0.76734338,0.81452153,0.85923672,0.87757079\n",
        ",0.8889467,0.89704634,0.90512151,0.90337865,0.91266378,0.91047976\n",
        ",0.91313158,0.91956551,0.92071636,0.92018597,0.91587398,0.92070538\n",
        ",0.91742227,0.91644194,0.9196061,0.92286039,0.92064354,0.91629871\n",
        ",0.92825763,0.92611886]\n",
        "print('max Kappa_RF:')\n",
        "print(max(Kappa_RF))\n",
        "\n",
        "# RESULTS OF THE SFS for the first band (k-NN)\n",
        "\n",
        "bands_kNN = ['B11_savg', 't0_vh_hist_smoothed', 'B4_corr_1', 't0_vv_hist_smoothed', 't0_vh', 'B7_savg', 't0_vh_smoothed2_savg', 'B4_var_1', 't0_vv_smoothed2', 'B7_asm', 't0_vv_smoothed2_imcorr1', 't0_vv_smoothed2_sent', 't0_vv_smoothed2_idm', 'B8_imcorr2', 'evi_asm', 'evi_asm_1', 't0_vh_smoothed2_asm', 't0_vh_smoothed2_ent', 't0_vh_smoothed2_imcorr2', 't0_vv_smoothed2_asm', 't0_vv_smoothed2_ent', 't0_vv_smoothed2_imcorr2', 't0_vh_smoothed2_idm', 'B8_idm', 't0_vh_smoothed2_sent', 'B8_asm']\n",
        "Kappa_kNN = [0.38304269,0.56285095,0.68228515,0.74430484,0.78331805,0.80945346\n",
        ",0.82088552,0.83940279,0.84961429,0.85239285,0.85353102,0.85518361\n",
        ",0.85627741,0.85680844,0.85680844,0.85680844,0.85680844,0.85680844\n",
        ",0.85680844,0.85680844,0.85680844,0.85680844,0.85625064,0.85612361\n",
        ",0.85608997,0.85500686]\n",
        "print('max Kappa_kNN:')\n",
        "print(max(Kappa_kNN))\n",
        "\n",
        "\n",
        "bands_SVM = ['B11_savg', 't0_vh_hist_smoothed', 't0_vv_hist_smoothed', 'B4_corr_1', 'B4_savg_1', 't0_vv_smoothed2', 't0_vh_smoothed2_savg', 'B8_savg', 't0_vh', 'B11', 't0_vh_smoothed2_dent', 'B4_imcorr2_1', 'evi_imcorr2_1', 't0_vv_hist_smoothed2', 'B4_ent_1', 'evi_dent_1', 'B4_sent', 't0_vh_smoothed2_shade', 'evi_shade_1', 'evi_dvar_1', 'B4_svar', 'evi_diss_1', 'B7_dent', 't0_vv_smoothed2_sent', 'B4_diss_1', 'evi_ent_1']\n",
        "Kappa_SVM = [0.47441102,0.60732036,0.69559092,0.75504912,0.80110925,0.80962149\n",
        ",0.83307069,0.8465609,0.85345684,0.85765098,0.86261982,0.86478074\n",
        ",0.8679397,0.87293762,0.87620614,0.8838177,0.88546344,0.88842258\n",
        ",0.88879741,0.8930699,0.89306985,0.89362165,0.89359431,0.89517015\n",
        ",0.89578673,0.89799835]\n",
        "print('max Kappa_SVM:')\n",
        "print(max(Kappa_SVM))\n",
        "\n",
        "bands_NN = ['B11_savg', 't0_vh', 'B8_var', 't0_vv', 'evi_imcorr2_1', 't0_vv_smoothed3', 'B4_corr_1', 'B4_diss_1', 't0_vv_smoothed2_ent', 't0_vv_hist_smoothed2', 't0_vh_smoothed2_savg', 'B8_contrast', 't0_vh_smoothed2_sent', 'B6', 'B4_contrast', 'B8_ent', 'B8_savg', 't0_vv_smoothed2_prom', 'evi_imcorr1', 'B11_svar', 'B8_imcorr1', 't0_vh_smoothed2_ent', 'B4_var_1', 'B4_prom', 'B11_dent', 'B8_prom']\n",
        "Kappa_NN = [0.48186225,0.54690327,0.62335317,0.65316636,0.67762458,0.69248489\n",
        ",0.7356263,0.75966055,0.75505474,0.76834707,0.80748302,0.80264243\n",
        ",0.82387167,0.81759668,0.81635092,0.81963604,0.82829253,0.82598446\n",
        ",0.82475421,0.83004221,0.82357074,0.83756975,0.82434134,0.82120811\n",
        ",0.82776728,0.82616873]\n",
        "print('max Kappa_NN:')\n",
        "print(max(Kappa_NN))\n",
        "\n",
        "bands_NB = ['B11_savg', 't0_vh', 'B4_corr_1', 'B7_savg', 't0_vh_smoothed2_savg', 't0_vv_hist_smoothed', 'B4_diss_1', 't0_vh_hist_smoothed', 'B4_savg_1', 't0_vv_smoothed2_corr', 'B4_corr', 'B8_diss', 'random', 'B11', 'evi_corr_1', 't0_vh_smoothed2_corr', 'evi_shade_1', 't0_vv_smoothed2_savg', 'evi_dvar_1', 'B4_dent_1', 'evi_savg_1', 'evi_imcorr1_1', 'B7_imcorr1', 't0_vv_smoothed2', 'B6', 'B4_idm_1']\n",
        "Kappa_NB =[0.51123696,0.63037376,0.69780207,0.72398515,0.74147411,0.74754475\n",
        ",0.75733975,0.76687326,0.76599879,0.77198678,0.77037517,0.77207955\n",
        ",0.77217799,0.76611388,0.76631538,0.76684962,0.76640411,0.7678326\n",
        ",0.76752612,0.76747472,0.7629114,0.76116927,0.77049514,0.77477042\n",
        ",0.78083609,0.78096635]\n",
        "print('max Kappa_NB:')\n",
        "print(max(Kappa_NB))\n",
        "\n",
        "bands_MD = ['B11_savg', 't0_vh_smoothed2_savg', 't0_vv_smoothed2_savg', 't0_vv_hist_smoothed', 'evi_ent_1', 'B11_shade', 'B11_idm', 't0_vh', 't0_vh_hist_smoothed', 't0_vv_smoothed3', 't0_vv_smoothed2_dent', 't0_vv_smoothed2', 't0_vv_smoothed2_dvar', 't0_vv_smoothed2_svar', 'B7_asm', 'B4_prom', 't0_vh_smoothed2_prom', 't0_vh_smoothed2_imcorr1', 't0_vv_smoothed2_prom', 'B11_prom', 'evi_prom_1', 'evi_idm_1', 'B8_dent', 't0_vv_smoothed2_imcorr1', 'B7_prom', 'B8_imcorr2']\n",
        "Kappa_MD =[0.36393044,0.51867978,0.59484168,0.64316579,0.66502841,0.67858304\n",
        ",0.69595141,0.71571166,0.72842328,0.7324935,0.74164633,0.74911338\n",
        ",0.75442208,0.75444797,0.75547853,0.75551949,0.7565891,0.75561321\n",
        ",0.75559002,0.75505042,0.75464445,0.75696798,0.75814358,0.75874052\n",
        ",0.75825023,0.75824845]\n",
        "print('max Kappa_kNN:')\n",
        "print(max(Kappa_kNN))\n",
        "\n",
        "bands_CART = ['B11_savg', 't0_vh_smoothed2', 'evi_corr_1', 't0_vv_hist_smoothed2', 't0_vv_smoothed3', 'B8_1', 'evi_prom_1', 'B4_dvar_1', 'evi_savg_1', 't0_vh', 'B7_savg', 'B11_shade', 't0_vh_hist_smoothed2', 't0_vv_smoothed2', 'B11_1', 'B11_maxcorr', 't0_vh_smoothed2_savg', 'evi_imcorr1_1', 'B4_maxcorr', 'B4_1', 'B4_sent', 'B11', 'B4_maxcorr_1', 'B4_savg_1', 't0_vv_smoothed2_corr', 'B4_shade_1']\n",
        "Kappa_CART = [0.47081843,0.65620706,0.75408325,0.79124826,0.82088158,0.82840057\n",
        ",0.83669788,0.82679131,0.83121745,0.83140994,0.84233724,0.83797624\n",
        ",0.84299738,0.83535654,0.84072891,0.83580171,0.84359716,0.84378048\n",
        ",0.84035941,0.84389707,0.84205053,0.83923138,0.84972245,0.83719789\n",
        ",0.84495969,0.84917171]\n",
        "print('max Kappa_CART:')\n",
        "print(max(Kappa_CART))"
      ],
      "execution_count": 0,
      "outputs": [
        {
          "output_type": "stream",
          "text": [
            "max Kappa_RF:\n",
            "0.92825763\n",
            "max Kappa_kNN:\n",
            "0.85680844\n",
            "max Kappa_SVM:\n",
            "0.89799835\n",
            "max Kappa_NN:\n",
            "0.83756975\n",
            "max Kappa_NB:\n",
            "0.78096635\n",
            "max Kappa_kNN:\n",
            "0.85680844\n",
            "max Kappa_CART:\n",
            "0.84972245\n"
          ],
          "name": "stdout"
        }
      ]
    },
    {
      "cell_type": "code",
      "metadata": {
        "id": "z7MkbSgLt2Q5",
        "colab_type": "code",
        "outputId": "0b4cf017-1710-468e-d865-ba57360a8177",
        "colab": {
          "base_uri": "https://localhost:8080/",
          "height": 229
        }
      },
      "source": [
        "x = np.linspace(1, 26, num=26)\n",
        "\n",
        "%matplotlib inline\n",
        "plt.figure(figsize=(4,3))\n",
        "plt.plot(x, Kappa_RF, label=\"RF\") \n",
        "plt.plot(x, Kappa_kNN, label=\"kNN\") \n",
        "plt.plot(x, Kappa_SVM, label=\"SVM\")\n",
        "plt.plot(x, Kappa_NB, label=\"NB\") \n",
        "plt.plot(x, Kappa_MD, label=\"MD\") \n",
        "plt.plot(x, Kappa_CART, label=\"CART\") \n",
        "plt.ylabel('kappa') \n",
        "plt.ylim(0.3,1)\n",
        "plt.xlabel('number of features') \n",
        "plt.grid()\n",
        "plt.legend()\n",
        "\n",
        "# plt.savefig('ModelComparison1.svg')\n",
        "# files.download('ModelComparison1.svg')"
      ],
      "execution_count": 0,
      "outputs": [
        {
          "output_type": "display_data",
          "data": {
            "image/png": "[encoded data removed]",
            "text/plain": [
              "<Figure size 288x216 with 1 Axes>"
            ]
          },
          "metadata": {
            "tags": []
          }
        }
      ]
    },
    {
      "cell_type": "code",
      "metadata": {
        "id": "TwF90aOHt2qy",
        "colab_type": "code",
        "colab": {}
      },
      "source": [
        ""
      ],
      "execution_count": 0,
      "outputs": []
    },
    {
      "cell_type": "markdown",
      "metadata": {
        "colab_type": "text",
        "id": "qaQUugXnFArH"
      },
      "source": [
        "# Figure model comparison - setup2"
      ]
    },
    {
      "cell_type": "code",
      "metadata": {
        "colab_type": "code",
        "id": "viXZIbf7FArM",
        "outputId": "c327a643-ed22-481d-b5b9-33ceeeadaa09",
        "colab": {
          "base_uri": "https://localhost:8080/",
          "height": 221
        }
      },
      "source": [
        "\n",
        "bands_RF = ['t0_vh_smoothed2', 'B11_savg', 'evi_corr_1', 't0_vv_hist_smoothed2', 'B4_contrast_1', 'B8_savg', 't0_vv', 't0_vv_smoothed2_savg', 't0_vv_hist_smoothed', 'B11_asm', 'B7_diss', 't0_vv_smoothed2_sent', 't0_vh_hist_smoothed2', 't0_vv_smoothed2', 't0_vv_smoothed2_corr', 'B4_imcorr1', 'B7_1', 'evi_savg_1', 'evi_dvar_1', 'B7_dent', 'B8_corr', 'evi_imcorr2_1', 't0_vv_smoothed2_shade', 'B8_var', 'B4_corr', 'B4_shade_1']\n",
        "Kappa_RF = [0.39349906,0.68680416,0.80424794,0.85481128,0.88259679,0.89726339\n",
        ",0.90556792,0.91764233,0.90680097,0.91510824,0.91508439,0.91827026\n",
        ",0.91952969,0.92463123,0.93095859,0.92523436,0.92206419,0.92333039\n",
        ",0.92780536,0.9278153,0.92459865,0.92652173,0.93035955,0.92584563\n",
        ",0.92579066,0.92082676]\n",
        "print('max Kappa_RF:')\n",
        "print(max(Kappa_RF))\n",
        "\n",
        "bands_kNN = ['B11_savg', 't0_vh_hist_smoothed', 'B4_corr_1', 't0_vv_smoothed2', 't0_vv_hist_smoothed', 't0_vh_smoothed2_savg', 'B8_savg', 'B4_contrast_1', 't0_vv_smoothed2_savg', 'evi_ent_1', 't0_vh_smoothed2_imcorr1', 't0_vv_smoothed2_idm', 'evi_shade', 'B4_prom', 'evi_asm', 'evi_asm_1', 't0_vh_smoothed2_asm', 't0_vh_smoothed2_ent', 't0_vh_smoothed2_imcorr2', 't0_vh_smoothed2_prom', 't0_vh_smoothed2_shade', 't0_vv_smoothed2_prom', 'B8_asm', 'B8_imcorr2', 't0_vv_smoothed2_asm', 't0_vv_smoothed2_ent']\n",
        "Kappa_kNN = [0.31181325,0.551543,0.68301982,0.74135173,0.7813544,0.80119258\n",
        ",0.82390346,0.8428034,0.84870829,0.85834383,0.86088285,0.86216375\n",
        ",0.86285266,0.86598502,0.86598502,0.86598502,0.86598502,0.86598502\n",
        ",0.86598502,0.86598502,0.86735377,0.86799842,0.86800023,0.86800023\n",
        ",0.86800023,0.86800023]\n",
        "print('max Kappa_kNN:')\n",
        "print(max(Kappa_kNN))\n",
        "\n",
        "bands_SVM = ['B11_savg', 'B4_corr_1', 't0_vh', 't0_vv_smoothed2_savg', 't0_vh_smoothed2_savg', 'evi_corr_1', 't0_vv_hist_smoothed', 'B7_savg', 'evi_savg', 'B2', 'B11_diss', 't0_vv_smoothed2', 't0_vh_hist_smoothed', 'B4_dent_1', 'B4_idm_1', 'B4_contrast_1', 't0_vv_smoothed2_dvar', 't0_vv_smoothed2_dent', 'evi_dent', 't0_vv_smoothed2_imcorr2', 'B4_asm_1', 'B11_var', 'B11_prom', 't0_vh_smoothed2_dent', 'B7_asm', 'B8_imcorr1']\n",
        "Kappa_SVM = [0.330934,0.47824289,0.62997298,0.6966338,0.73872566,0.78424059\n",
        ",0.80474071,0.83499233,0.84454613,0.85341941,0.85459667,0.85737464\n",
        ",0.86056605,0.86961519,0.8834936,0.88787446,0.8878929,0.88839396\n",
        ",0.89534203,0.8941272,0.89281442,0.89285487,0.89095962,0.8897174\n",
        ",0.89099026,0.8903753,]\n",
        "print('max Kappa_SVM:')\n",
        "print(max(Kappa_SVM))\n",
        "\n",
        "bands_NB = ['B11_savg', 'B4_corr_1', 't0_vh', 'evi_corr_1', 'B7_imcorr1', 'B8_corr', 'B4_ent_1', 'random', 't0_vh_hist_smoothed', 'B4_corr', 'B4_dent_1', 'evi_imcorr2_1', 'evi_shade_1', 'B4_svar_1', 'B7_idm', 't0_vh_smoothed2_savg', 'B8', 't0_vh_smoothed2_corr', 'evi_imcorr1', 't0_vv_smoothed2_corr', 'B4_2', 'B11_imcorr1', 'B4_sent', 'evi_prom_1', 'B4_var_1', 'B7_corr']\n",
        "Kappa_NB = [0.32924099,0.48912844,0.59126697,0.64106471,0.65822802,0.6694727\n",
        ",0.67198238,0.67523521,0.67237588,0.68036429,0.68332786,0.69054853\n",
        ",0.68428395,0.69206551,0.68912315,0.68780458,0.69164545,0.69080849\n",
        ",0.69039151,0.68931632,0.68812188,0.68557384,0.68238493,0.67771782\n",
        ",0.67762198,0.67171307]\n",
        "print('max Kappa_NB:')\n",
        "print(max(Kappa_NB))\n",
        "\n",
        "\n",
        "bands_MD = ['t0_vh_hist_smoothed', 't0_vv_hist_smoothed2', 't0_vh_smoothed3', 'evi_shade', 't0_vh', 'B7_asm', 't0_vh_smoothed2_sent', 'B11_prom', 't0_vh_smoothed2_imcorr1', 't0_vh_smoothed2_imcorr2', 't0_vv_smoothed2_imcorr2', 't0_vh_smoothed2_asm', 'evi_asm', 't0_vv_smoothed2_asm', 'B8_imcorr2', 't0_vv_smoothed2_prom', 't0_vv_smoothed2_imcorr1', 'B4_svar', 't0_vv_smoothed2_contrast', 'B4_var', 'B4_prom', 't0_vv_smoothed2_sent', 'B8_idm', 'evi_asm_1', 't0_vh_smoothed2_idm', 't0_vv_smoothed2_idm']\n",
        "Kappa_MD = [0.33878965,0.44516581,0.5564532,0.57777606,0.59005244,0.59216993\n",
        ",0.59231658,0.59296695,0.59510193,0.593079,0.59304839,0.59883969\n",
        ",0.5984526,0.60076622,0.60042974,0.5977564,0.59325286,0.59437993\n",
        ",0.5945535,0.59555,0.60556351,0.61182806,0.61187665,0.61106497\n",
        ",0.60954693,0.60403735]\n",
        "print('max Kappa_MD:')\n",
        "print(max(Kappa_MD))\n",
        "\n",
        "bands_CART = ['B11_savg', 't0_vh_smoothed2', 'evi_corr_1', 't0_vv_hist_smoothed2', 'B4_contrast_1', 'B8A', 'B7_savg', 't0_vv_smoothed2_savg', 't0_vv_smoothed2_diss', 't0_vv_smoothed3', 'B7', 't0_vh_hist_smoothed2', 'B4_inertia_1', 'B4_asm_1', 'B11_maxcorr', 't0_vv', 'B4_maxcorr', 'evi_savg', 'B8_corr', 't0_vv_smoothed2', 'B4_maxcorr_1', 't0_vh', 'B4_shade', 't0_vh_smoothed2_shade', 'B11_1', 'B7_maxcorr']\n",
        "Kappa_CART = [0.44392547,0.67348691,0.76698775,0.81343994,0.83606964,0.85024486\n",
        ",0.84823686,0.86474502,0.86446933,0.8567221,0.84897344,0.85994212\n",
        ",0.85973141,0.87054356,0.84832227,0.85579547,0.8591879,0.8487388\n",
        ",0.85422527,0.8413359,0.84258375,0.8616574,0.855724,0.85066909\n",
        ",0.84610925,0.85472453]\n",
        "print('max Kappa_CART:')\n",
        "print(max(Kappa_CART))"
      ],
      "execution_count": 0,
      "outputs": [
        {
          "output_type": "stream",
          "text": [
            "max Kappa_RF:\n",
            "0.93095859\n",
            "max Kappa_kNN:\n",
            "0.86800023\n",
            "max Kappa_SVM:\n",
            "0.89534203\n",
            "max Kappa_NB:\n",
            "0.69206551\n",
            "max Kappa_MD:\n",
            "0.61187665\n",
            "max Kappa_CART:\n",
            "0.87054356\n"
          ],
          "name": "stdout"
        }
      ]
    },
    {
      "cell_type": "code",
      "metadata": {
        "colab_type": "code",
        "outputId": "ceb53050-8436-4de3-a205-7ca2f3fc4846",
        "id": "gMLVo-wmFArO",
        "colab": {
          "base_uri": "https://localhost:8080/",
          "height": 229
        }
      },
      "source": [
        "x = np.linspace(1, 26, num=26)\n",
        "\n",
        "%matplotlib inline\n",
        "plt.figure(figsize=(4,3))\n",
        "plt.plot(x, Kappa_RF, label=\"RF\") \n",
        "plt.plot(x, Kappa_kNN, label=\"kNN\") \n",
        "plt.plot(x, Kappa_SVM, label=\"SVM\")\n",
        "plt.plot(x, Kappa_NB, label=\"NB\") \n",
        "plt.plot(x, Kappa_MD, label=\"MD\") \n",
        "plt.plot(x, Kappa_CART, label=\"CART\") \n",
        "plt.ylabel('kappa') \n",
        "plt.ylim(0.3,1)\n",
        "plt.xlabel('number of features') \n",
        "plt.grid()\n",
        "plt.legend()\n",
        "\n",
        "# plt.savefig('ModelComparison2.svg')\n",
        "# files.download('ModelComparison2.svg')"
      ],
      "execution_count": 0,
      "outputs": [
        {
          "output_type": "display_data",
          "data": {
            "image/png": "[encoded data removed]",
            "text/plain": [
              "<Figure size 288x216 with 1 Axes>"
            ]
          },
          "metadata": {
            "tags": []
          }
        }
      ]
    },
    {
      "cell_type": "code",
      "metadata": {
        "colab_type": "code",
        "id": "ffFj4QV3FArS",
        "colab": {}
      },
      "source": [
        ""
      ],
      "execution_count": 0,
      "outputs": []
    },
    {
      "cell_type": "markdown",
      "metadata": {
        "colab_type": "text",
        "id": "kx4e0PJdv0Un"
      },
      "source": [
        "# Figure model comparison - setup3"
      ]
    },
    {
      "cell_type": "code",
      "metadata": {
        "colab_type": "code",
        "id": "L-xVePHdv0Us",
        "outputId": "99feaf8a-e553-43e3-d1b1-17a04b2491bd",
        "colab": {
          "base_uri": "https://localhost:8080/",
          "height": 221
        }
      },
      "source": [
        "\n",
        "bands_RF = ['B12', 't0_vh_hist_smoothed2', 't0_vv_hist_smoothed2', 'B11_1', 't0_vv_smoothed2', 'B7_savg', 'B4_savg_1', 't0_vh_smoothed2', 'evi_contrast_1', 'B4_svar_1', 't0_vh_smoothed2_savg', 't0_vv_hist_smoothed', 'B8_diss', 'B8A_1', 'B4_1', 'evi_dent', 'B8_1', 'evi_savg_1', 'B11_savg', 'B8_imcorr2', 't0_vv_smoothed2_savg', 'B8_var', 'B11_var', 'evi_dent_1', 'evi_diss', 'evi_sent']\n",
        "Kappa_RF = [0.68378634,0.86028289,0.92504218,0.93341623,0.94171083,0.94253514\n",
        ",0.94669147,0.94839255,0.95420806,0.95421251,0.95253827,0.94587698\n",
        ",0.94920762,0.94587171,0.95087773,0.95587322,0.94753719,0.95336866\n",
        ",0.95087295,0.95753838,0.95672055,0.95338228,0.95420806,0.95670369\n",
        ",0.95337774,0.95087295]\n",
        "print('max Kappa_RF:')\n",
        "print(max(Kappa_RF))\n",
        "\n",
        "\n",
        "bands_kNN = ['B11_1', 't0_vh_hist_smoothed', 't0_vv_hist_smoothed', 't0_vv_smoothed2', 'B4_savg_1', 't0_vv_hist_smoothed2', 'evi_idm_1', 'B4_prom_1', 't0_vv_smoothed2_prom', 'B8_imcorr2', 'evi_asm', 'evi_asm_1', 't0_vh_smoothed2_asm', 't0_vh_smoothed2_ent', 't0_vh_smoothed2_idm', 't0_vh_smoothed2_imcorr2', 't0_vv_smoothed2_asm', 't0_vv_smoothed2_ent', 't0_vv_smoothed2_imcorr2', 't0_vv_smoothed2_sent', 'B8_prom', 't0_vv_smoothed2_idm', 'B7_asm', 'B4_asm', 't0_vh_smoothed2_imcorr1', 't0_vv_smoothed3']\n",
        "Kappa_kNN = [0.67763225,0.84488141,0.90378137,0.92109692,0.93185115,0.94507908\n",
        ",0.95007675,0.95507345,0.95590757,0.95590757,0.95590757,0.95590757\n",
        ",0.95590757,0.95590757,0.95590757,0.95590757,0.95590757,0.95590757\n",
        ",0.95590757,0.95507782,0.95508219,0.95425261,0.95425261,0.95259829\n",
        ",0.9542615,0.95507345]\n",
        "print('max Kappa_kNN:')\n",
        "print(max(Kappa_kNN))\n",
        "\n",
        "\n",
        "bands_SVM = ['B11_1', 't0_vh_hist_smoothed', 't0_vv_hist_smoothed', 'B7_1', 'B11', 'B7', 'B7_imcorr1', 'B8_ent', 'B11_idm', 'B11_savg', 'B4_diss_1', 't0_vh_smoothed2_corr', 'B8A_1', 'B4_contrast', 'B8_savg', 'B11_diss', 'B4_imcorr1_1', 't0_vv_smoothed2_idm', 'B4_savg_1', 'evi_idm_1', 'B11_corr', 't0_vv_smoothed2_imcorr1', 'B6_1', 'evi_dent_1', 'B4_diss', 'B11_contrast']\n",
        "Kappa_SVM = [0.67830927,0.75741249,0.87903807,0.90285294,0.90699097,0.90948668\n",
        ",0.91175073,0.91509743,0.91678649,0.91763065,0.91845076,0.92006057\n",
        ",0.92092022,0.92174121,0.92007613,0.92009948,0.92177168,0.92178691\n",
        ",0.92095101,0.9226152,0.92179452,0.92097408,0.92007613,0.92013835\n",
        ",0.91927897,0.91927897]\n",
        "print('max Kappa_SVM:')\n",
        "print(max(Kappa_SVM))\n",
        "\n",
        "bands_NB = ['B11_1', 't0_vh_hist_smoothed', 't0_vv_hist_smoothed2', 't0_vh', 'evi_idm_1', 'B4_prom', 'random', 'B4_shade', 'B11', 't0_vv_smoothed2', 't0_vv_smoothed2_prom', 'B4_corr_1', 'B7_dent', 'B7_idm', 't0_vh_smoothed2_savg', 'evi_imcorr2', 'evi_corr', 'B11_idm', 'B6', 'B8_imcorr1', 'B4_shade_1', 'B4_corr', 'B4_asm', 'B4_imcorr2', 'evi_imcorr1_1', 'B4_ent']\n",
        "Kappa_NB = [0.70723624,0.82292271,0.871501,0.88169864,0.89509993,0.89589699\n",
        ",0.89840041,0.8984202,0.89774193,0.90005624,0.90005624,0.8984103\n",
        ",0.8984103,0.89837071,0.90329349,0.90497011,0.90494231,0.90495158\n",
        ",0.90504418,0.90755652,0.90591837,0.90590921,0.90508117,0.90508117\n",
        ",0.90503492,0.90501641]\n",
        "print('max Kappa_NB:')\n",
        "print(max(Kappa_NB))\n",
        "\n",
        "\n",
        "bands_MD = ['t0_vv_smoothed2', 't0_vh_hist_smoothed', 't0_vh_smoothed2', 'B6', 'B11_asm', 'evi_idm_1', 'evi_shade', 't0_vh_smoothed2_imcorr1', 'B4_prom', 't0_vv_smoothed2_imcorr1', 't0_vv_smoothed2_prom', 'B4_shade', 'B8_imcorr2', 'evi_asm', 'B11_imcorr2', 'B7_asm', 't0_vh_smoothed2_idm', 't0_vh_smoothed3', 'B11_prom', 't0_vh_smoothed2_asm', 'evi_asm_1', 't0_vh_smoothed2_imcorr2', 't0_vv_smoothed2_sent', 't0_vh_smoothed2_sent', 't0_vv_smoothed2_imcorr2', 'B8_asm']\n",
        "Kappa_MD = [0.6447892,0.75538684,0.8127031,0.84246165,0.84337435,0.84648085\n",
        ",0.85406974,0.85572804,0.85572804,0.85490593,0.85490593,0.85655024\n",
        ",0.85490593,0.85408389,0.85397061,0.85642491,0.85646671,0.85823611\n",
        ",0.85905831,0.85907197,0.85661976,0.85333305,0.85416874,0.85254015\n",
        ",0.85171891,0.85009119]\n",
        "print('max Kappa_MD:')\n",
        "print(max(Kappa_MD))\n",
        "\n",
        "\n",
        "bands_CART = ['B11_1', 't0_vh_smoothed2', 't0_vv_hist_smoothed2', 't0_vh_hist_smoothed2', 'B7_savg', 'B7_ent', 'B4_1', 'B11_savg', 'evi_savg', 't0_vh_smoothed2_imcorr2', 'B11_maxcorr', 'B4_imcorr1', 't0_vv_hist_smoothed', 'B8A', 'B12_1', 'B4_maxcorr', 't0_vv_smoothed2', 'B4_maxcorr_1', 'B4_asm_1', 'B12', 'B7_maxcorr', 'B4_corr', 't0_vv_smoothed3', 'B4_svar', 'B8_maxcorr', 'B8_1']\n",
        "Kappa_CART = [0.6837536,0.84909485,0.90187491,0.91268955,0.92435301,0.9259868\n",
        ",0.91012066,0.91013815,0.92595799,0.92341375,0.92595079,0.92760777\n",
        ",0.92843638,0.92931323,0.92600839,0.91508916,0.9176627,0.92930636\n",
        ",0.93178484,0.92013835,0.89438566,0.9276289,0.90671916,0.92092022\n",
        ",0.91348321,0.91587657]\n",
        "print('max Kappa_CART:')\n",
        "print(max(Kappa_CART))\n"
      ],
      "execution_count": 0,
      "outputs": [
        {
          "output_type": "stream",
          "text": [
            "max Kappa_RF:\n",
            "0.95753838\n",
            "max Kappa_kNN:\n",
            "0.95590757\n",
            "max Kappa_SVM:\n",
            "0.9226152\n",
            "max Kappa_NB:\n",
            "0.90755652\n",
            "max Kappa_MD:\n",
            "0.85907197\n",
            "max Kappa_CART:\n",
            "0.93178484\n"
          ],
          "name": "stdout"
        }
      ]
    },
    {
      "cell_type": "code",
      "metadata": {
        "colab_type": "code",
        "id": "dqiSTRoNv0Uz",
        "outputId": "c35f5fd5-c655-417d-ff86-549b82ef38f6",
        "colab": {
          "base_uri": "https://localhost:8080/",
          "height": 229
        }
      },
      "source": [
        "x = np.linspace(1, 26, num=26)\n",
        "\n",
        "%matplotlib inline\n",
        "plt.figure(figsize=(4,3))\n",
        "plt.plot(x, Kappa_RF, label=\"RF\") \n",
        "plt.plot(x, Kappa_kNN, label=\"kNN\") \n",
        "plt.plot(x, Kappa_SVM, label=\"SVM\")\n",
        "plt.plot(x, Kappa_NB, label=\"NB\") \n",
        "plt.plot(x, Kappa_MD, label=\"MD\") \n",
        "plt.plot(x, Kappa_CART, label=\"CART\") \n",
        "plt.ylim(0.3,1)\n",
        "plt.ylabel('kappa') \n",
        "plt.xlabel('number of features') \n",
        "plt.grid()\n",
        "plt.legend()\n",
        "\n",
        "\n",
        "# plt.savefig('ModelComparison3.svg')\n",
        "# files.download('ModelComparison3.svg')"
      ],
      "execution_count": 0,
      "outputs": [
        {
          "output_type": "display_data",
          "data": {
            "image/png": "[encoded data removed]",
            "text/plain": [
              "<Figure size 288x216 with 1 Axes>"
            ]
          },
          "metadata": {
            "tags": []
          }
        }
      ]
    }
  ]
}